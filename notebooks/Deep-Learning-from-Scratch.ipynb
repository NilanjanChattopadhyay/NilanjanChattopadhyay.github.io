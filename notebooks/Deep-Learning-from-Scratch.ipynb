{
  "nbformat": 4,
  "nbformat_minor": 0,
  "metadata": {
    "colab": {
      "name": "Deep Learning from Scratch - Pytorch.ipynb",
      "provenance": [],
      "collapsed_sections": [],
      "authorship_tag": "ABX9TyMJV4vKlFXBlP684KAfyciS",
      "include_colab_link": true
    },
    "kernelspec": {
      "name": "python3",
      "display_name": "Python 3"
    },
    "accelerator": "GPU"
  },
  "cells": [
    {
      "cell_type": "markdown",
      "metadata": {
        "id": "view-in-github",
        "colab_type": "text"
      },
      "source": [
        "<a href=\"https://colab.research.google.com/github/NilanjanChattopadhyay/NilanjanChattopadhyay.github.io/blob/master/notebooks/Deep-Learning-from-Scratch.ipynb\" target=\"_parent\"><img src=\"https://colab.research.google.com/assets/colab-badge.svg\" alt=\"Open In Colab\"/></a>"
      ]
    },
    {
      "cell_type": "markdown",
      "metadata": {
        "id": "8UVflLzepbHA",
        "colab_type": "text"
      },
      "source": [
        "# **Introduction to the Basics of Neural Networks**\n",
        "\n",
        "Goal of this tutorial:\n",
        "\n",
        "*   Introduce Neural Networks\n",
        "*   Introduce Pytorch\n",
        "*   Build a neural network from scratch\n",
        "\n",
        "Prerequisites:\n",
        "\n",
        "*   Comfortable with Python\n",
        "*   Familiarity with *Pytorch Tensor* or *Numpy Array* operations\n",
        "*   Basic understanding of Linear and Logistic Regression\n",
        "\n",
        "\n"
      ]
    },
    {
      "cell_type": "markdown",
      "metadata": {
        "id": "MfrLsf4EBzy9",
        "colab_type": "text"
      },
      "source": [
        "## **Neural Networks**\n",
        "\n",
        "A Neural Network is a computer algorithm inspired by biological brain that can 'learn' from data. Neural nets are composed of artificial neurons organised into layers. An individual neuron can be connected to several neurons in the previous layer or to the layer above it. \n",
        "\n",
        "A neuron receives one or more inputs, adds them up and passes the sum through a non-linear function to produce an output. Each input is usually separately multipled with a weight.\n",
        "\n"
      ]
    },
    {
      "cell_type": "markdown",
      "metadata": {
        "id": "aFwZC-2ualoX",
        "colab_type": "text"
      },
      "source": [
        "### **Neuron**\n",
        "\n",
        "<img src=\"https://github.com/NilanjanChattopadhyay/NilanjanChattopadhyay.github.io/blob/master/images/NeuralNet-1.png?raw=true\" width=\"557\" height=\"400\" alt=\"Neural Network with 1 Neuron\" title=\"Neural Network\" align=\"center\"/>\n",
        "\n",
        "<br>  Let's look at the above diagram - Neural Network with 1 neuron. This network receives 3 inputs from the Input Layer. Each input is then multiplied with a weight, $w_{i}$,  before going into the next layer. The weights are represented by arrows and are also called parameters. This network has only 1 Layer with 1 Unit. This unit adds up the 3 weighted inputs it received. Then it passes the sum through a non-linear function, $f$, and outputs a number. The output is represented by $y$ in this diagram. \n",
        "\n",
        "This network can be mathematically represented as:\n",
        "$$ y = f(w_{1}x_{1} + w_{2}x_{2} + w_{3}x_{3}) $$\n",
        "\n",
        "The general form the this equation will become:\n",
        "$$ y = f\\biggl(\\sum_{i=1}^{n}w_{i}x_{i}\\biggr) $$"
      ]
    },
    {
      "cell_type": "markdown",
      "metadata": {
        "id": "_xBV-AOe7Izb",
        "colab_type": "text"
      },
      "source": [
        "### **Activation Function**\n",
        "\n",
        "The non-linear function $f$ is called the activation function. The most commonly used activation functions are the rectified linear unit (ReLU), the sigmoid function and the hyperbolic tangent function.\n",
        "\n",
        "> **Rectified Linear Unit**\n",
        "$$ ReLU(x) = max(0, x) $$\n",
        "\n",
        "> **Sigmoid Function**\n",
        "$$ \\sigma(x) = \\frac{1}{1 + e^{-x}}$$\n",
        "\n",
        "> **Hyperbolic Tangent Function**\n",
        "$$ tanh(x) = \\frac{e^{x} - e^{-x}}{e^{x} + e^{-x}}$$\n",
        "\n",
        "These three fucntions are the most popular activations used in Neural Networks, but any function can be used as an activation function. There are some desirable properties we generally want in an activation -\n",
        "\n",
        "*   Non-Linear functions\n",
        "*   Differentiable functions\n",
        "\n",
        "We will explore the benefits of these properties later.\n",
        "\n"
      ]
    },
    {
      "cell_type": "markdown",
      "metadata": {
        "id": "iuhBOFw8KIKW",
        "colab_type": "text"
      },
      "source": [
        "### **Neural Network with multiple neurons**\n",
        "\n",
        "<img src=\"https://upload.wikimedia.org/wikipedia/commons/4/46/Colored_neural_network.svg\" width=\"296\" height=\"356\" title=\"Neural Network\" align=\"center\"/>\n",
        "\n",
        "In practice we will almost always use neural networks with more than 1 unit. The above image is an example of a neural net with a 1 hidden layer. Each hidden unit receives 3 inputs modified by a weight. The weights are different for each unit and thus, there are 12 weights/parameters/arrows between the input layer and hidden layer. Each hidden unit sums the weighted inputs and passes the sum through an activation function to produce an output. The output of the hidden layer becomes input for the next layer."
      ]
    },
    {
      "cell_type": "markdown",
      "metadata": {
        "id": "abjADSr5rJ-w",
        "colab_type": "text"
      },
      "source": [
        "## **Pytorch**\n",
        "\n",
        "Pytorch is an open source machine learning framework developed by Facebook's AI Research Lab. It is one of the most popular deep learning library along with Google's Tensorflow.\n",
        "\n",
        "Two core features of this library are:\n",
        "* N-dimensional Tensor computing (similar to Numpy Arrays). Computations performed using Pytorch Tensors can be accelerated by using GPUs\n",
        "* Automatic differentiation"
      ]
    },
    {
      "cell_type": "markdown",
      "metadata": {
        "id": "-pxJd9cexGCq",
        "colab_type": "text"
      },
      "source": [
        "### **Why can't we use Numpy for deep learning?**\n",
        "\n",
        "NumPy is the fundamental package for scientific computing with Python and provides a powerful N-dimensional array object. But operations like matrix multiplication performed using Pytorch Tensors can utilize GPUs and can be 50x faster than Numpy Arrays. Since matrix multiplication is fundamental to neural networks, using Pytorch we can create bigger networks and use bigger datasets. Another reason for using Pytorch is that it provides advanced functionalities like automatic differentiation (autograd) for operations on Tensors. Implementing neural networks involves differentiation which can get extremely complicated as the size of the network grows. Differentiation of parameters/weights of neural networks can be automated using Pytorch.\n",
        "\n"
      ]
    },
    {
      "cell_type": "markdown",
      "metadata": {
        "id": "cF9JyPNwP_g3",
        "colab_type": "text"
      },
      "source": [
        "# **A Neural Net from Scratch using Pytorch**\n",
        "\n",
        "We will first create a neural network using nothing but PyTorch Tensors.\n",
        "\n",
        "A PyTorch Tensor is conceptually identical to an n-dimensional Numpy array. When $n=1$, the array is called a vector. For $n=2$, the 2D array is a matrix. What would be a matrix of matrices? A 3-dimensional tensor. \n",
        "\n",
        "Let's start by importing libraries."
      ]
    },
    {
      "cell_type": "code",
      "metadata": {
        "id": "NYiXHMqSgp-y",
        "colab_type": "code",
        "colab": {}
      },
      "source": [
        "%load_ext autoreload\n",
        "%autoreload 2\n",
        "\n",
        "%matplotlib inline"
      ],
      "execution_count": 0,
      "outputs": []
    },
    {
      "cell_type": "code",
      "metadata": {
        "id": "TsE0-YUo6Dnm",
        "colab_type": "code",
        "colab": {}
      },
      "source": [
        "import numpy as np\n",
        "import pandas as pd\n",
        "import matplotlib.pyplot as plt\n",
        "\n",
        "import torch"
      ],
      "execution_count": 0,
      "outputs": []
    },
    {
      "cell_type": "code",
      "metadata": {
        "id": "4z4gHxSLvV4R",
        "colab_type": "code",
        "colab": {}
      },
      "source": [
        "torch.manual_seed(42)\n",
        "\n",
        "torch.backends.cudnn.deterministic = True\n",
        "torch.backends.cudnn.benchmark = False"
      ],
      "execution_count": 0,
      "outputs": []
    },
    {
      "cell_type": "markdown",
      "metadata": {
        "id": "INpPaC_YjnU_",
        "colab_type": "text"
      },
      "source": [
        "Let's create a input data to experiment on. We will create a vector with 10,000 data points using pytorch's rand function.\n",
        "\n",
        "***torch.rand*** - returns a tensor filled with random numbers from a uniform distribution on the interval [0, 1)\n",
        "\n"
      ]
    },
    {
      "cell_type": "code",
      "metadata": {
        "id": "-sYIRygRe8O6",
        "colab_type": "code",
        "outputId": "ff359f84-96d1-4555-ef7c-3a96d708a1e8",
        "colab": {
          "base_uri": "https://localhost:8080/",
          "height": 134
        }
      },
      "source": [
        "Input = torch.rand(10000, 1)\n",
        "Input"
      ],
      "execution_count": 0,
      "outputs": [
        {
          "output_type": "execute_result",
          "data": {
            "text/plain": [
              "tensor([[0.8823],\n",
              "        [0.9150],\n",
              "        [0.3829],\n",
              "        ...,\n",
              "        [0.2181],\n",
              "        [0.9120],\n",
              "        [0.4111]])"
            ]
          },
          "metadata": {
            "tags": []
          },
          "execution_count": 4
        }
      ]
    },
    {
      "cell_type": "code",
      "metadata": {
        "id": "sqkajCODv_Sc",
        "colab_type": "code",
        "outputId": "52570fd8-0f1b-4511-9ae8-a0717f65e4b3",
        "colab": {
          "base_uri": "https://localhost:8080/",
          "height": 34
        }
      },
      "source": [
        "Input.shape"
      ],
      "execution_count": 0,
      "outputs": [
        {
          "output_type": "execute_result",
          "data": {
            "text/plain": [
              "torch.Size([10000, 1])"
            ]
          },
          "metadata": {
            "tags": []
          },
          "execution_count": 5
        }
      ]
    },
    {
      "cell_type": "markdown",
      "metadata": {
        "id": "O-inXGrLlLon",
        "colab_type": "text"
      },
      "source": [
        "Let the *Input* vector created above be $x_1$. A neural net with single neuron for this input data will be:\n",
        "\n",
        "$$ y = f(w_{1}x_{1}) $$\n",
        "\n",
        "There is one additonal parameter we usually consider in a neuron - **bias**. Bias is added to the weighted sum of the inputs before going into the activation function. The modified equation will become -\n",
        "\n",
        "$$ y = f(w_{1}x_{1} + b) $$\n",
        "\n",
        "Let's pick up random weight and bias for our *Input* data.\n"
      ]
    },
    {
      "cell_type": "code",
      "metadata": {
        "id": "kuyaar1qe9bY",
        "colab_type": "code",
        "outputId": "27a59b98-2379-404f-dce5-79cc676097f1",
        "colab": {
          "base_uri": "https://localhost:8080/",
          "height": 34
        }
      },
      "source": [
        "W1 = 2*torch.rand(1, 1)-1\n",
        "B1 = 2*torch.rand(1)-1\n",
        "W1, B1"
      ],
      "execution_count": 0,
      "outputs": [
        {
          "output_type": "execute_result",
          "data": {
            "text/plain": [
              "(tensor([[0.5414]]), tensor([-0.8311]))"
            ]
          },
          "metadata": {
            "tags": []
          },
          "execution_count": 6
        }
      ]
    },
    {
      "cell_type": "markdown",
      "metadata": {
        "id": "X1qUz6uCyaaa",
        "colab_type": "text"
      },
      "source": [
        "Let's consider the case where our activation function is ***Identity Function***, i.e. $f(x)=x$. Then our model becomes:\n",
        "$$ y = w_{1}x_{1} + b $$\n",
        "\n",
        "This is identitical to linear regression.\n",
        "\n",
        "Let's create the *Output* vector by mutiplying every data point with weight *W1* and adding bias *B1*."
      ]
    },
    {
      "cell_type": "code",
      "metadata": {
        "id": "rGshBVr3e9YZ",
        "colab_type": "code",
        "colab": {}
      },
      "source": [
        "Output = torch.empty(10000, 1)\n",
        "\n",
        "def model():\n",
        "  for i in range(10000):\n",
        "    Output[i] = Input[i]*W1 + B1\n",
        "\n",
        "  return Output.view(10000, 1)"
      ],
      "execution_count": 0,
      "outputs": []
    },
    {
      "cell_type": "code",
      "metadata": {
        "id": "LbWzsc5ihQ4z",
        "colab_type": "code",
        "outputId": "d0ff0676-8af8-4825-d371-498da646194e",
        "colab": {
          "base_uri": "https://localhost:8080/",
          "height": 168
        }
      },
      "source": [
        "%time model()"
      ],
      "execution_count": 0,
      "outputs": [
        {
          "output_type": "stream",
          "text": [
            "CPU times: user 168 ms, sys: 960 µs, total: 169 ms\n",
            "Wall time: 171 ms\n"
          ],
          "name": "stdout"
        },
        {
          "output_type": "execute_result",
          "data": {
            "text/plain": [
              "tensor([[-0.3534],\n",
              "        [-0.3357],\n",
              "        [-0.6238],\n",
              "        ...,\n",
              "        [-0.7130],\n",
              "        [-0.3373],\n",
              "        [-0.6085]])"
            ]
          },
          "metadata": {
            "tags": []
          },
          "execution_count": 8
        }
      ]
    },
    {
      "cell_type": "markdown",
      "metadata": {
        "id": "TzuDJT07zy0W",
        "colab_type": "text"
      },
      "source": [
        "But this is very inefficient way of generating output vector. We can speed up the process exponentially if we use matrix multiplication.\n",
        "\n",
        "*Input* data can be considered as matrix with 10000 rows and 1 column. The weight *w1* is also a 1x1 matrix.\n",
        "\n",
        "Matrix multiplication of $Input_{(10000,1)}*W1_{(1,1)}$ will result in a matrix with 10,000 rows and 1 column. We will utilise the broadcasting abilities of Pytorch to add bias $B1$ to this. \n",
        "\n",
        "We can use $@$ operator from Pytorch for matrix multiplication."
      ]
    },
    {
      "cell_type": "code",
      "metadata": {
        "id": "EYKoG0fDe9U4",
        "colab_type": "code",
        "outputId": "f88c9aae-8e21-49e0-dcd2-92c4311d9ca9",
        "colab": {
          "base_uri": "https://localhost:8080/",
          "height": 168
        }
      },
      "source": [
        "%time Input@W1 + B1"
      ],
      "execution_count": 0,
      "outputs": [
        {
          "output_type": "stream",
          "text": [
            "CPU times: user 472 µs, sys: 0 ns, total: 472 µs\n",
            "Wall time: 584 µs\n"
          ],
          "name": "stdout"
        },
        {
          "output_type": "execute_result",
          "data": {
            "text/plain": [
              "tensor([[-0.3534],\n",
              "        [-0.3357],\n",
              "        [-0.6238],\n",
              "        ...,\n",
              "        [-0.7130],\n",
              "        [-0.3373],\n",
              "        [-0.6085]])"
            ]
          },
          "metadata": {
            "tags": []
          },
          "execution_count": 9
        }
      ]
    },
    {
      "cell_type": "markdown",
      "metadata": {
        "id": "J-Uq_zV9_Q2J",
        "colab_type": "text"
      },
      "source": [
        "We can see that matrix multiplication is magnitudes faster compared to the *for loop*. Though the *for loop* is pretty fast, but to use bigger networks for bigger data sets with millions of dimensions, the time difference between *for loop* and *matrix multiplication* will be significant."
      ]
    },
    {
      "cell_type": "markdown",
      "metadata": {
        "id": "jRVR1qHE30Ga",
        "colab_type": "text"
      },
      "source": [
        "Let's look at why we need non-linear activations for neural networks. Matrix multiplications are linear transformations and no matter how many neurons we add or how much we increase the number of hidden layers, the output will always be a linear transformation of the input. Without any non-linearity neural networks, no matter how wide or deep, cannot learn non-linear relationships between Input and Output. In practice, the relationship will almost always be non-linear.\n",
        "\n",
        "Through activation functions we can introduce non-linearity. Neural Networks with atleast 1 hidden layer and non-linear activation function like ReLU are **universal approximators**. According to **Universal Approximation Theorem** these neural networks can approximate any continuous function.\n",
        "\n",
        "Let's try to see that in practice for regression problems. We will create a neural network for a random input with 1 hidden layer and 100 hidden units."
      ]
    },
    {
      "cell_type": "code",
      "metadata": {
        "id": "fH4Sf17FuNum",
        "colab_type": "code",
        "outputId": "289635f7-5221-4627-f67e-7b77464ac957",
        "colab": {
          "base_uri": "https://localhost:8080/",
          "height": 134
        }
      },
      "source": [
        "Input = 2*torch.rand(10000, 1) - 1\n",
        "Input"
      ],
      "execution_count": 0,
      "outputs": [
        {
          "output_type": "execute_result",
          "data": {
            "text/plain": [
              "tensor([[-0.6009],\n",
              "        [-0.5854],\n",
              "        [ 0.5283],\n",
              "        ...,\n",
              "        [ 0.7124],\n",
              "        [ 0.3041],\n",
              "        [-0.7577]])"
            ]
          },
          "metadata": {
            "tags": []
          },
          "execution_count": 10
        }
      ]
    },
    {
      "cell_type": "markdown",
      "metadata": {
        "id": "lOWh4g5CAiBK",
        "colab_type": "text"
      },
      "source": [
        "We have an *Input* vector with 10,000 elements randomly picked from $U[-1, 1)$. We define *W1* of the size $[1, 100]$. The 100 represents the number of hidden units and 1 represents the dimension of input elements. Every hidden unit will have its own bias. Thus, bias *B1* is a vector of size $100$."
      ]
    },
    {
      "cell_type": "code",
      "metadata": {
        "id": "1BVpVwrauNsC",
        "colab_type": "code",
        "colab": {}
      },
      "source": [
        "W1 = 2*torch.rand(1, 100)-1\n",
        "B1 = 2*torch.rand(100)-1"
      ],
      "execution_count": 0,
      "outputs": []
    },
    {
      "cell_type": "code",
      "metadata": {
        "id": "pE-iD8FvuNox",
        "colab_type": "code",
        "colab": {}
      },
      "source": [
        "X1 = Input@W1 + B1"
      ],
      "execution_count": 0,
      "outputs": []
    },
    {
      "cell_type": "code",
      "metadata": {
        "id": "KvlsaDhluNl1",
        "colab_type": "code",
        "outputId": "6afd4660-60b3-4d8d-a4d8-ad848fff5c93",
        "colab": {
          "base_uri": "https://localhost:8080/",
          "height": 34
        }
      },
      "source": [
        "X1.shape"
      ],
      "execution_count": 0,
      "outputs": [
        {
          "output_type": "execute_result",
          "data": {
            "text/plain": [
              "torch.Size([10000, 100])"
            ]
          },
          "metadata": {
            "tags": []
          },
          "execution_count": 13
        }
      ]
    },
    {
      "cell_type": "markdown",
      "metadata": {
        "id": "LAcAD54cDBMw",
        "colab_type": "text"
      },
      "source": [
        "Each element of the input was mutiplied with a weight and bias was added to it independently for all the hidden units. Thus, 100 outputs from every element. Hence, the size of *X1* is $[10000, 100]$. We didn't use any activation function.\n",
        "\n",
        "Let's define the weights of the output layer. Now every element has 100 dimensions and we need 1 output for each element for our regression. So, our net will have 1 unit in the output layer. Therefore, the weight matrix for the output layer will be of the size $[100, 1]$. Since there is 1 unit, bias *B2* is a vector of size 1."
      ]
    },
    {
      "cell_type": "code",
      "metadata": {
        "id": "6kkkZIU63s-T",
        "colab_type": "code",
        "colab": {}
      },
      "source": [
        "W2 = 2*torch.randn(100, 1)-1\n",
        "B2 = 2*torch.randn(1)-1"
      ],
      "execution_count": 0,
      "outputs": []
    },
    {
      "cell_type": "code",
      "metadata": {
        "id": "QTz1cOPQuNdZ",
        "colab_type": "code",
        "outputId": "de456893-ccd1-4343-cbeb-13bdc92d381e",
        "colab": {
          "base_uri": "https://localhost:8080/",
          "height": 34
        }
      },
      "source": [
        "Output = X1@W2 + B2\n",
        "Output.shape"
      ],
      "execution_count": 0,
      "outputs": [
        {
          "output_type": "execute_result",
          "data": {
            "text/plain": [
              "torch.Size([10000, 1])"
            ]
          },
          "metadata": {
            "tags": []
          },
          "execution_count": 15
        }
      ]
    },
    {
      "cell_type": "markdown",
      "metadata": {
        "id": "1m2jXyTwFyG4",
        "colab_type": "text"
      },
      "source": [
        "We can plot the *Input* and *Output* vectors and, as expected, in absence of any non-linear activation function we observe a perfect linear relationship between them."
      ]
    },
    {
      "cell_type": "code",
      "metadata": {
        "id": "1G-Eh4u43s4W",
        "colab_type": "code",
        "outputId": "b5427ab0-7ce4-42e1-bd29-e1bc36e24801",
        "colab": {
          "base_uri": "https://localhost:8080/",
          "height": 282
        }
      },
      "source": [
        "plt.scatter(Input.numpy(), Output.squeeze().numpy())"
      ],
      "execution_count": 0,
      "outputs": [
        {
          "output_type": "execute_result",
          "data": {
            "text/plain": [
              "<matplotlib.collections.PathCollection at 0x7f3422a09710>"
            ]
          },
          "metadata": {
            "tags": []
          },
          "execution_count": 16
        },
        {
          "output_type": "display_data",
          "data": {
            "image/png": "[encoded data removed]",
            "text/plain": [
              "<Figure size 432x288 with 1 Axes>"
            ]
          },
          "metadata": {
            "tags": []
          }
        }
      ]
    },
    {
      "cell_type": "markdown",
      "metadata": {
        "id": "i5M9_p0cGnUY",
        "colab_type": "text"
      },
      "source": [
        "Will we get a linear relationship between Input and Output if a non-linear activation fuction is used? Or would our output be similar to the shape of the activation function?\n",
        "\n",
        "Let's implement ReLU as an activation function for the same input and same parameters(weights and biases are also called parameters).\n",
        "\n",
        "The formula for ReLU is:\n",
        "$$ ReLU(x) = max(0, x) $$\n",
        "\n",
        "This means if the output of the hidden layer is $-ve$, it will be replaced by $0$. *X1* contains the output of the hidden layers. It has 10,000 rows each for every element from *Input* and 100 columns where each column contains the output of a hidden unit."
      ]
    },
    {
      "cell_type": "code",
      "metadata": {
        "id": "th67jTLYuNXl",
        "colab_type": "code",
        "outputId": "04046f18-bbd0-4824-e5ce-9417ea889073",
        "colab": {
          "base_uri": "https://localhost:8080/",
          "height": 134
        }
      },
      "source": [
        "X1"
      ],
      "execution_count": 0,
      "outputs": [
        {
          "output_type": "execute_result",
          "data": {
            "text/plain": [
              "tensor([[ 0.9557, -0.2965,  0.2151,  ..., -0.5407,  0.9081, -0.3212],\n",
              "        [ 0.9472, -0.3104,  0.2025,  ..., -0.5394,  0.9031, -0.3203],\n",
              "        [ 0.3358, -1.3050, -0.6986,  ..., -0.4457,  0.5417, -0.2584],\n",
              "        ...,\n",
              "        [ 0.2347, -1.4695, -0.8477,  ..., -0.4302,  0.4820, -0.2482],\n",
              "        [ 0.4588, -1.1048, -0.5172,  ..., -0.4645,  0.6145, -0.2709],\n",
              "        [ 1.0418, -0.1565,  0.3420,  ..., -0.5539,  0.9590, -0.3299]])"
            ]
          },
          "metadata": {
            "tags": []
          },
          "execution_count": 17
        }
      ]
    },
    {
      "cell_type": "markdown",
      "metadata": {
        "id": "vh0kCv7ZI_0I",
        "colab_type": "text"
      },
      "source": [
        "Pytorch has a built-in function for ReLU. Please check Pytorch's documentation for more details."
      ]
    },
    {
      "cell_type": "code",
      "metadata": {
        "id": "XgATY15ouNU8",
        "colab_type": "code",
        "outputId": "81d3b95c-6738-4076-d2d9-8c196efa0b01",
        "colab": {
          "base_uri": "https://localhost:8080/",
          "height": 134
        }
      },
      "source": [
        "X1.clamp(0)"
      ],
      "execution_count": 0,
      "outputs": [
        {
          "output_type": "execute_result",
          "data": {
            "text/plain": [
              "tensor([[0.9557, 0.0000, 0.2151,  ..., 0.0000, 0.9081, 0.0000],\n",
              "        [0.9472, 0.0000, 0.2025,  ..., 0.0000, 0.9031, 0.0000],\n",
              "        [0.3358, 0.0000, 0.0000,  ..., 0.0000, 0.5417, 0.0000],\n",
              "        ...,\n",
              "        [0.2347, 0.0000, 0.0000,  ..., 0.0000, 0.4820, 0.0000],\n",
              "        [0.4588, 0.0000, 0.0000,  ..., 0.0000, 0.6145, 0.0000],\n",
              "        [1.0418, 0.0000, 0.3420,  ..., 0.0000, 0.9590, 0.0000]])"
            ]
          },
          "metadata": {
            "tags": []
          },
          "execution_count": 18
        }
      ]
    },
    {
      "cell_type": "markdown",
      "metadata": {
        "id": "FUX0bhQeJYUa",
        "colab_type": "text"
      },
      "source": [
        "***.clamp*** has replaced all the $-ve$ elements of the tensor with $0$. Let's calculate the *Output* again using the same *Input* and weights with ReLU activation."
      ]
    },
    {
      "cell_type": "code",
      "metadata": {
        "id": "hGJMrDCfuNaa",
        "colab_type": "code",
        "colab": {}
      },
      "source": [
        "X1 = Input@W1 + B1\n",
        "X1.clamp_(0)\n",
        "Output = X1@W2 + B2"
      ],
      "execution_count": 0,
      "outputs": []
    },
    {
      "cell_type": "markdown",
      "metadata": {
        "id": "1DZXNByUKSGT",
        "colab_type": "text"
      },
      "source": [
        "We can plot the *Output* against *Input* and see that the relation is non-linear. Also, note that the shape is not similar to the shape of the activation function."
      ]
    },
    {
      "cell_type": "code",
      "metadata": {
        "id": "nEvrgISwuNSC",
        "colab_type": "code",
        "outputId": "6536fda8-0b25-4a72-fcca-02ee76da4cd0",
        "colab": {
          "base_uri": "https://localhost:8080/",
          "height": 282
        }
      },
      "source": [
        "plt.scatter(Input.numpy(), Output.squeeze().numpy())"
      ],
      "execution_count": 0,
      "outputs": [
        {
          "output_type": "execute_result",
          "data": {
            "text/plain": [
              "<matplotlib.collections.PathCollection at 0x7f341fcddc50>"
            ]
          },
          "metadata": {
            "tags": []
          },
          "execution_count": 20
        },
        {
          "output_type": "display_data",
          "data": {
            "image/png": "[encoded data removed]",
            "text/plain": [
              "<Figure size 432x288 with 1 Axes>"
            ]
          },
          "metadata": {
            "tags": []
          }
        }
      ]
    },
    {
      "cell_type": "markdown",
      "metadata": {
        "id": "McmS2pMfKEf4",
        "colab_type": "text"
      },
      "source": [
        "Up untill now, we were only looking at the shapes of random predictions. Let's see if the neural network can approximate the relationship between *Input* and *Output*.\n",
        "\n",
        "We will create an *Input* vector with 10,000 elements randomly picked from $U[-1, 1)$. We will create a *Target* vector from the input using the following relation:\n",
        "\n",
        "$$ Target = f(Input) = Input^{2}$$\n",
        "\n",
        "Let's also plot the graph to visually confirm that the relation is non-linear."
      ]
    },
    {
      "cell_type": "code",
      "metadata": {
        "id": "6pTT_NWCmJiV",
        "colab_type": "code",
        "outputId": "78581fe3-9483-468c-9631-2e0cb20a1884",
        "colab": {
          "base_uri": "https://localhost:8080/",
          "height": 282
        }
      },
      "source": [
        "Input = 2*torch.rand(10000, 1)-1\n",
        "Target = Input.pow(2)\n",
        "\n",
        "plt.scatter(Input.numpy(), Target.numpy())"
      ],
      "execution_count": 0,
      "outputs": [
        {
          "output_type": "execute_result",
          "data": {
            "text/plain": [
              "<matplotlib.collections.PathCollection at 0x7f341fc57198>"
            ]
          },
          "metadata": {
            "tags": []
          },
          "execution_count": 21
        },
        {
          "output_type": "display_data",
          "data": {
            "image/png": "[encoded data removed]",
            "text/plain": [
              "<Figure size 432x288 with 1 Axes>"
            ]
          },
          "metadata": {
            "tags": []
          }
        }
      ]
    },
    {
      "cell_type": "markdown",
      "metadata": {
        "id": "Z1hAC4ISMxFN",
        "colab_type": "text"
      },
      "source": [
        "The goal is to see how well a simple neural network can learn and approximate this non-linear relationship.\n",
        "\n",
        "We will create a neural network with 1 Hidden Layer and 100 Hidden Units. Let's randomly intialize the weights and parameters. Notice that we set ***requires_grad*** as True. We will come back to this later."
      ]
    },
    {
      "cell_type": "code",
      "metadata": {
        "id": "ishuLW-Gov_F",
        "colab_type": "code",
        "colab": {}
      },
      "source": [
        "W1 = torch.empty(1, 100).uniform_(-1, 1).requires_grad_(True)\n",
        "B1 = torch.empty(100).uniform_(-1, 1).requires_grad_(True)\n",
        "\n",
        "W2 = torch.empty(100, 1).uniform_(-1, 1).requires_grad_(True)\n",
        "B2 = torch.empty(1).uniform_(-1, 1).requires_grad_(True)"
      ],
      "execution_count": 0,
      "outputs": []
    },
    {
      "cell_type": "markdown",
      "metadata": {
        "id": "Lh2dIIupPD-Y",
        "colab_type": "text"
      },
      "source": [
        "We can get the predictions of the model following the same steps we used previously. This step is known as the **Forward Pass**. \n",
        "\n",
        "But how good are those predictions? Similar to *Linear Regression*, we can use ***Mean Squared Error*** to see how close or far our predictions are from the actual *Target*.\n",
        "\n",
        "We can also plot the predictions against the input vector to see its shape."
      ]
    },
    {
      "cell_type": "code",
      "metadata": {
        "id": "y6pamuuHmJfS",
        "colab_type": "code",
        "outputId": "b318b157-ba9a-4076-c1b7-750bdf71acf2",
        "colab": {
          "base_uri": "https://localhost:8080/",
          "height": 34
        }
      },
      "source": [
        "X1 = Input@W1 + B1\n",
        "X2 = X1.clamp(0)\n",
        "Predicted = X2@W2 + B2\n",
        "\n",
        "Loss = (Target - Predicted).pow(2).mean()\n",
        "Loss"
      ],
      "execution_count": 0,
      "outputs": [
        {
          "output_type": "execute_result",
          "data": {
            "text/plain": [
              "tensor(2.9038, grad_fn=<MeanBackward0>)"
            ]
          },
          "metadata": {
            "tags": []
          },
          "execution_count": 23
        }
      ]
    },
    {
      "cell_type": "code",
      "metadata": {
        "id": "E2wTlq14mJZs",
        "colab_type": "code",
        "outputId": "9063d832-6f14-47c0-e389-e4bd33954972",
        "colab": {
          "base_uri": "https://localhost:8080/",
          "height": 285
        }
      },
      "source": [
        "plt.scatter(Input.numpy(), Predicted.detach().numpy())"
      ],
      "execution_count": 0,
      "outputs": [
        {
          "output_type": "execute_result",
          "data": {
            "text/plain": [
              "<matplotlib.collections.PathCollection at 0x7f341fcf99e8>"
            ]
          },
          "metadata": {
            "tags": []
          },
          "execution_count": 24
        },
        {
          "output_type": "display_data",
          "data": {
            "image/png": "[encoded data removed]",
            "text/plain": [
              "<Figure size 432x288 with 1 Axes>"
            ]
          },
          "metadata": {
            "tags": []
          }
        }
      ]
    },
    {
      "cell_type": "markdown",
      "metadata": {
        "id": "FKWof7ZvkIyF",
        "colab_type": "text"
      },
      "source": [
        "With random parameters(weights and biases), as visible in the graph, the predictions are very different from actual targets."
      ]
    },
    {
      "cell_type": "markdown",
      "metadata": {
        "id": "61WfmkFMk52_",
        "colab_type": "text"
      },
      "source": [
        "## **Training Neural Networks**\n",
        "\n",
        "Till now we have seen how to define a neural network with 1 hidden layer. The parameters are initialized at random. Thus, the ouput of our neural network is also random. The next step is to *train* the network and to make it learn the relationship between *input* and *target*.\n",
        "\n",
        "For the model to learn, it first needs to evaluate the how good or bad its performance is. For regression problems, *Mean Squared Error* is most commonly used as the *Loss Fuction* to evaluate the performance of the model. Many other functions can be used as a *Loss Function*.\n",
        "\n",
        "$$ MSE(Target, Prediction) = \\frac{1}{n_{rows}} \\sum_{i=1}^{n_{rows}} (Target_{i}-Prediction_{i})^{2}$$\n",
        "\n",
        "\n",
        "With random parameters, the loss will be pretty bad at the beginning. The goal of the training process is to optimize the loss function. Since our loss function is MSE, we want to minimize it as much as possible. \n",
        "\n",
        "The MSE is a function of *Target* and *Predictions*. Predictions are a function of *Input* and *parameters* (weights and biases). So, we can change/update the parameters (weights and biases) of the network to reduce loss.\n",
        "\n",
        "$$ Loss = f(Input, Target, parameters)$$\n",
        "\n",
        "To minimize our loss, we will use an algorithm called *Gradient Descent*. Gradient Descent is an iterative algorithm, that starts with random parameters on a loss function and travels down its slope in steps until it reaches the lowest point of the function. With each step we update the parameters reducing loss.\n",
        "\n",
        "The slope of a function is its gradients. The step size is $gradient$ * $learning$ $rate$. We update the parameters by going down the slope:\n",
        "\n",
        "$$ new\\_parameters = old\\_prameters - learning\\_rate*gradient$$\n",
        "\n",
        "\n",
        "\n",
        "\n",
        "\n",
        "\n",
        "\n"
      ]
    },
    {
      "cell_type": "markdown",
      "metadata": {
        "id": "W0qrrc87xnqg",
        "colab_type": "text"
      },
      "source": [
        "### Calculating Gradients\n",
        "\n",
        "We don't need to worry about the mathematics that goes into gradient calculation. Calulating gradients in a neural network can be a daunting task. Fortunately, Pytorch can automatically calculate gradients of the parameters.\n",
        "\n",
        "If you wish to explore the mathematics of gradient calculation for neural networks, you can find details [here](https://explained.ai/matrix-calculus/index.html).\n",
        "\n",
        "Setting **requires_grad=True** indicates that we want Pytorch to automatically compute gradients of the Tensors.\n",
        "\n",
        "```\n",
        "W1 = torch.empty(1, 100).uniform_(-1, 1).requires_grad_(True)\n",
        "B1 = torch.empty(100).uniform_(-1, 1).requires_grad_(True)\n",
        "\n",
        "W2 = torch.empty(100, 1).uniform_(-1, 1).requires_grad_(True)\n",
        "B2 = torch.empty(1).uniform_(-1, 1).requires_grad_(True)\n",
        "```\n",
        "W1.grad, B1.grad, W2.grad, B2.grad will be the Tensors holding the gradients.\n",
        "\n",
        "We will use **Loss.backward()** to compute the gradient of loss with respect to all Tensors with requires_grad=True."
      ]
    },
    {
      "cell_type": "code",
      "metadata": {
        "id": "pd1S86-5mJWb",
        "colab_type": "code",
        "colab": {}
      },
      "source": [
        "learning_rate = 0.001\n",
        "\n",
        "# Compute gradient of the loss functions\n",
        "Loss.backward()\n",
        "\n",
        "# Pytorch will, by default, will calculate the gradients by considering every Tensor operation with requires_grad=True\n",
        "# But we don't want the weight update step to be used for gradient calculation\n",
        "# We do this be wrapping the update part in torch.no_grad()\n",
        "with torch.no_grad():\n",
        "  \n",
        "  W1 -= learning_rate * W1.grad\n",
        "  B1 -= learning_rate * B1.grad\n",
        "  \n",
        "  W2 -= learning_rate * W2.grad\n",
        "  B2 -= learning_rate * B2.grad\n",
        "  \n",
        "  # Set the gradients to zero\n",
        "  # loss.backward() adds the gradients to whatever is already stored\n",
        "  W1.grad.zero_()\n",
        "  B1.grad.zero_()\n",
        "  \n",
        "  W2.grad.zero_()\n",
        "  B2.grad.zero_()"
      ],
      "execution_count": 0,
      "outputs": []
    },
    {
      "cell_type": "markdown",
      "metadata": {
        "id": "9T08Hslg5smU",
        "colab_type": "text"
      },
      "source": [
        "Let's calculate the loss again to see if the model is better or worse than before."
      ]
    },
    {
      "cell_type": "code",
      "metadata": {
        "id": "EVPaVWJRmJTh",
        "colab_type": "code",
        "outputId": "8c3fc21c-0b90-44eb-e9d7-d3d1504ccdad",
        "colab": {
          "base_uri": "https://localhost:8080/",
          "height": 34
        }
      },
      "source": [
        "X1 = Input@W1 + B1\n",
        "X2 = X1.clamp(0)\n",
        "Predicted = X2@W2 + B2\n",
        "Loss = (Target - Predicted).pow(2).mean()\n",
        "Loss"
      ],
      "execution_count": 0,
      "outputs": [
        {
          "output_type": "execute_result",
          "data": {
            "text/plain": [
              "tensor(2.7102, grad_fn=<MeanBackward0>)"
            ]
          },
          "metadata": {
            "tags": []
          },
          "execution_count": 26
        }
      ]
    },
    {
      "cell_type": "code",
      "metadata": {
        "id": "yoIl9rGE1Uih",
        "colab_type": "code",
        "outputId": "c424cdf5-ef48-440e-e817-fa90f2a79f32",
        "colab": {
          "base_uri": "https://localhost:8080/",
          "height": 282
        }
      },
      "source": [
        "plt.scatter(Input.numpy(), Predicted.detach().numpy())"
      ],
      "execution_count": 0,
      "outputs": [
        {
          "output_type": "execute_result",
          "data": {
            "text/plain": [
              "<matplotlib.collections.PathCollection at 0x7f3416fdc2b0>"
            ]
          },
          "metadata": {
            "tags": []
          },
          "execution_count": 27
        },
        {
          "output_type": "display_data",
          "data": {
            "image/png": "[encoded data removed]",
            "text/plain": [
              "<Figure size 432x288 with 1 Axes>"
            ]
          },
          "metadata": {
            "tags": []
          }
        }
      ]
    },
    {
      "cell_type": "markdown",
      "metadata": {
        "id": "f3W2BgxA6C9V",
        "colab_type": "text"
      },
      "source": [
        "Though the loss decreased, we can see from the plot that the predictions are still pretty bad. \n",
        "\n",
        "We can keep on updating the weights till the loss stops decreasing. Let's put all the code together and repeat the process of updating parameters 1,000 times (1,000 epochs)."
      ]
    },
    {
      "cell_type": "code",
      "metadata": {
        "id": "aBgYqACxyu24",
        "colab_type": "code",
        "outputId": "0241f6e6-09e3-4df6-ae34-cc76c4ddfe63",
        "colab": {
          "base_uri": "https://localhost:8080/",
          "height": 202
        }
      },
      "source": [
        "# Input and Target\n",
        "Input = 2*torch.rand(10000, 1)-1\n",
        "Target = Input.pow(2)\n",
        "\n",
        "# Random Weight Initialization\n",
        "W1 = torch.empty(1, 100).uniform_(-1, 1).requires_grad_(True)\n",
        "B1 = torch.empty(100).uniform_(-1, 1).requires_grad_(True)\n",
        "\n",
        "W2 = torch.empty(100, 1).uniform_(-1, 1).requires_grad_(True)\n",
        "B2 = torch.empty(1).uniform_(-1, 1).requires_grad_(True)\n",
        "\n",
        "learning_rate = 0.001\n",
        "\n",
        "for i in range(1000):\n",
        "  \n",
        "  # Forward Pass - Computing Predictions\n",
        "  X1 = Input@W1 + B1\n",
        "  X2 = X1.clamp(0)\n",
        "  Predicted = X2@W2 + B2\n",
        "  \n",
        "  # Compute and Print Loss\n",
        "  Loss = (Target - Predicted).pow(2).mean()\n",
        "  if i%100 == 0:\n",
        "    print('MSE for epoch {} is {}'.format(i, Loss))\n",
        "    \n",
        "  # Backward Pass - Updating Parameters\n",
        "  Loss.backward()\n",
        "  with torch.no_grad():\n",
        "    \n",
        "    W1 -= learning_rate * W1.grad\n",
        "    B1 -= learning_rate * B1.grad\n",
        "    \n",
        "    W2 -= learning_rate * W2.grad\n",
        "    B2 -= learning_rate * B2.grad\n",
        "    \n",
        "    W1.grad.zero_()\n",
        "    B1.grad.zero_()\n",
        "\n",
        "    W2.grad.zero_()\n",
        "    B2.grad.zero_()\n",
        "\n",
        "print('MSE for epoch {} is {}'.format(i, Loss))"
      ],
      "execution_count": 0,
      "outputs": [
        {
          "output_type": "stream",
          "text": [
            "MSE for epoch 0 is 1.3800901174545288\n",
            "MSE for epoch 100 is 0.22866958379745483\n",
            "MSE for epoch 200 is 0.1459691822528839\n",
            "MSE for epoch 300 is 0.09707656502723694\n",
            "MSE for epoch 400 is 0.06567448377609253\n",
            "MSE for epoch 500 is 0.0454106368124485\n",
            "MSE for epoch 600 is 0.03228699788451195\n",
            "MSE for epoch 700 is 0.02371649444103241\n",
            "MSE for epoch 800 is 0.018053771927952766\n",
            "MSE for epoch 900 is 0.014254206791520119\n",
            "MSE for epoch 999 is 0.011682878248393536\n"
          ],
          "name": "stdout"
        }
      ]
    },
    {
      "cell_type": "code",
      "metadata": {
        "id": "cxEThOc6hLB0",
        "colab_type": "code",
        "outputId": "4fd80293-cfb6-4654-f2fb-f44c29d8ae6e",
        "colab": {
          "base_uri": "https://localhost:8080/",
          "height": 282
        }
      },
      "source": [
        "plt.scatter(Input.numpy(), Target.numpy())\n",
        "plt.scatter(Input.numpy(), Predicted.detach().numpy())"
      ],
      "execution_count": 0,
      "outputs": [
        {
          "output_type": "execute_result",
          "data": {
            "text/plain": [
              "<matplotlib.collections.PathCollection at 0x7f3416fc1b00>"
            ]
          },
          "metadata": {
            "tags": []
          },
          "execution_count": 29
        },
        {
          "output_type": "display_data",
          "data": {
            "image/png": "[encoded data removed]",
            "text/plain": [
              "<Figure size 432x288 with 1 Axes>"
            ]
          },
          "metadata": {
            "tags": []
          }
        }
      ]
    },
    {
      "cell_type": "markdown",
      "metadata": {
        "id": "0Lgc3VGA8Kyf",
        "colab_type": "text"
      },
      "source": [
        "The loss keeps on decreasing with every loop (*epoch*). From the plot, we see that the predictions are starting to take the shape of the output."
      ]
    },
    {
      "cell_type": "markdown",
      "metadata": {
        "id": "BqCQRib686s8",
        "colab_type": "text"
      },
      "source": [
        "**Congratulations!** We have defined and trained a neural network from scratch."
      ]
    },
    {
      "cell_type": "markdown",
      "metadata": {
        "id": "olaOmMOo9RjH",
        "colab_type": "text"
      },
      "source": [
        "But what if we apply gradient descent to a neural network without non-linear activations? Let's confirm how important the activation function was. We run the same code without the activation part on the same input data."
      ]
    },
    {
      "cell_type": "code",
      "metadata": {
        "id": "qmF5DsYoMrRA",
        "colab_type": "code",
        "outputId": "b552c131-ce19-4ee4-86bb-ba5a6a7e3d8d",
        "colab": {
          "base_uri": "https://localhost:8080/",
          "height": 202
        }
      },
      "source": [
        "# Random Weight Initialization\n",
        "# Why didn't we use the old weights?\n",
        "W1 = torch.empty(1, 100).uniform_(-1, 1).requires_grad_(True)\n",
        "B1 = torch.empty(100).uniform_(-1, 1).requires_grad_(True)\n",
        "\n",
        "W2 = torch.empty(100, 1).uniform_(-1, 1).requires_grad_(True)\n",
        "B2 = torch.empty(1).uniform_(-1, 1).requires_grad_(True)\n",
        "\n",
        "learning_rate = 0.001\n",
        "\n",
        "for i in range(1000):\n",
        "  \n",
        "  # Forward Pass - Computing Predictions\n",
        "  X1 = Input@W1 + B1\n",
        "  # No Non-Linear Activation Function\n",
        "  X2 = X1\n",
        "  Predicted = X2@W2 + B2\n",
        "  \n",
        "  # Compute and Print Loss\n",
        "  Loss = (Target - Predicted).pow(2).mean()\n",
        "  if i%100 == 0:\n",
        "    print('MSE for epoch {} is {}'.format(i, Loss))\n",
        "  \n",
        "  # Backward Pass - Updating Parameters\n",
        "  Loss.backward()\n",
        "  with torch.no_grad():\n",
        "    \n",
        "    W1 -= learning_rate * W1.grad\n",
        "    B1 -= learning_rate * B1.grad\n",
        "    \n",
        "    W2 -= learning_rate * W2.grad\n",
        "    B2 -= learning_rate * B2.grad\n",
        "    \n",
        "    W1.grad.zero_()\n",
        "    B1.grad.zero_()\n",
        "\n",
        "    W2.grad.zero_()\n",
        "    B2.grad.zero_()\n",
        "\n",
        "print('MSE for epoch {} is {}'.format(i, Loss))"
      ],
      "execution_count": 0,
      "outputs": [
        {
          "output_type": "stream",
          "text": [
            "MSE for epoch 0 is 1.5926787853240967\n",
            "MSE for epoch 100 is 0.08801382035017014\n",
            "MSE for epoch 200 is 0.08771540224552155\n",
            "MSE for epoch 300 is 0.08771520107984543\n",
            "MSE for epoch 400 is 0.08771520107984543\n",
            "MSE for epoch 500 is 0.08771520107984543\n",
            "MSE for epoch 600 is 0.08771520107984543\n",
            "MSE for epoch 700 is 0.08771519362926483\n",
            "MSE for epoch 800 is 0.08771519362926483\n",
            "MSE for epoch 900 is 0.08771519362926483\n",
            "MSE for epoch 999 is 0.08771519362926483\n"
          ],
          "name": "stdout"
        }
      ]
    },
    {
      "cell_type": "code",
      "metadata": {
        "id": "B2jnkLZrhN2o",
        "colab_type": "code",
        "outputId": "7a2636d9-f0f1-427e-9477-0654a48e0993",
        "colab": {
          "base_uri": "https://localhost:8080/",
          "height": 282
        }
      },
      "source": [
        "plt.scatter(Input.numpy(), Target.numpy())\n",
        "plt.scatter(Input.numpy(), Predicted.detach().numpy())"
      ],
      "execution_count": 0,
      "outputs": [
        {
          "output_type": "execute_result",
          "data": {
            "text/plain": [
              "<matplotlib.collections.PathCollection at 0x7f3416f30828>"
            ]
          },
          "metadata": {
            "tags": []
          },
          "execution_count": 31
        },
        {
          "output_type": "display_data",
          "data": {
            "image/png": "[encoded data removed]",
            "text/plain": [
              "<Figure size 432x288 with 1 Axes>"
            ]
          },
          "metadata": {
            "tags": []
          }
        }
      ]
    },
    {
      "cell_type": "markdown",
      "metadata": {
        "id": "tyCMo98e_dLr",
        "colab_type": "text"
      },
      "source": [
        "This shows that no matter how many layers are used, without non-linear activations, neural nets cannot learn non-linear relationships."
      ]
    },
    {
      "cell_type": "markdown",
      "metadata": {
        "id": "GF-HR8ogy2NH",
        "colab_type": "text"
      },
      "source": [
        "# **Pytorch Functionalities**\n",
        "\n",
        "Let's start taking advantage of PyTorch’s built-in functionalities and modules."
      ]
    },
    {
      "cell_type": "markdown",
      "metadata": {
        "id": "1l6EDSPPBpTT",
        "colab_type": "text"
      },
      "source": [
        "## **torch.nn Module**\n",
        "\n",
        "Even with automatic differentiation, designing and training a large neural networks will be very messy if we start from the scratch. In PyTorch, the nn classes provides high-level abstractions that can be used to avoid this problem. We will use it to shorten our code and make it more understandable.\n",
        "\n",
        "Using **torch.nn** we won't need to:\n",
        "\n",
        "*   Manually define and initialize parameters\n",
        "*   Write loss functions from scratch\n",
        "*   Manually update every model parameter\n",
        "*   Manually zero out the gradient of every model parameter"
      ]
    },
    {
      "cell_type": "code",
      "metadata": {
        "id": "dG35h9BUYlGX",
        "colab_type": "code",
        "outputId": "47fa8bfa-1c22-404e-892f-9993b47fbe86",
        "colab": {
          "base_uri": "https://localhost:8080/",
          "height": 202
        }
      },
      "source": [
        "# torch.nn.Sequential is used to define Neural Networls as a sequence of layers\n",
        "# Linear Module computes output from input using matrix multiplication\n",
        "# It automatically sets requires_grad = True\n",
        "# torch.nn.Linear requires 3 arguments - size of each input sample, size of each output sample, and if want an additive bias\n",
        "Model = torch.nn.Sequential(torch.nn.Linear(1, 100, bias=True), torch.nn.ReLU(), torch.nn.Linear(100, 1, bias=True))\n",
        "\n",
        "# torch.nn has lots of commonly used loss functions like Mean Squared Error (MSE)\n",
        "Loss_Function = torch.nn.MSELoss()\n",
        "\n",
        "learning_rate = 0.001\n",
        "\n",
        "for i in range(1000):\n",
        "\n",
        "  # Forward Pass \n",
        "  Predicted = Model(Input)\n",
        "\n",
        "  # Compute and Print Loss  \n",
        "  Loss = Loss_Function(Target, Predicted)\n",
        "  if i%100 == 0:\n",
        "    print('MSE for epoch {} is {}'.format(i, Loss))\n",
        "\n",
        "  # Backward Pass\n",
        "  Loss.backward()\n",
        "  with torch.no_grad():\n",
        "    # loop through model.parameters() to automatically update the values for each parameter\n",
        "    for parameters in Model.parameters():\n",
        "      parameters -= learning_rate * parameters.grad\n",
        "    # model.zero_grad(): zero out the gradients for every parameter \n",
        "    Model.zero_grad()\n",
        "\n",
        "print('MSE for epoch {} is {}'.format(i, Loss))"
      ],
      "execution_count": 0,
      "outputs": [
        {
          "output_type": "stream",
          "text": [
            "MSE for epoch 0 is 0.09116117656230927\n",
            "MSE for epoch 100 is 0.07772304862737656\n",
            "MSE for epoch 200 is 0.07228375226259232\n",
            "MSE for epoch 300 is 0.06723042577505112\n",
            "MSE for epoch 400 is 0.06253289431333542\n",
            "MSE for epoch 500 is 0.05816524475812912\n",
            "MSE for epoch 600 is 0.054103784263134\n",
            "MSE for epoch 700 is 0.05032665655016899\n",
            "MSE for epoch 800 is 0.046813737601041794\n",
            "MSE for epoch 900 is 0.04354659467935562\n",
            "MSE for epoch 999 is 0.040537431836128235\n"
          ],
          "name": "stdout"
        }
      ]
    },
    {
      "cell_type": "code",
      "metadata": {
        "id": "Cj_0JMi5YlCo",
        "colab_type": "code",
        "outputId": "7cef87f8-9c7f-479e-e1c5-374027816306",
        "colab": {
          "base_uri": "https://localhost:8080/",
          "height": 282
        }
      },
      "source": [
        "plt.scatter(Input.numpy(), Predicted.detach().numpy())"
      ],
      "execution_count": 0,
      "outputs": [
        {
          "output_type": "execute_result",
          "data": {
            "text/plain": [
              "<matplotlib.collections.PathCollection at 0x7f3416e9bfd0>"
            ]
          },
          "metadata": {
            "tags": []
          },
          "execution_count": 33
        },
        {
          "output_type": "display_data",
          "data": {
            "image/png": "[encoded data removed]",
            "text/plain": [
              "<Figure size 432x288 with 1 Axes>"
            ]
          },
          "metadata": {
            "tags": []
          }
        }
      ]
    },
    {
      "cell_type": "markdown",
      "metadata": {
        "id": "pyjmqLvMa8zu",
        "colab_type": "text"
      },
      "source": [
        "But we are losing some flexibility with torch.nn.Sequential. We might need to build models that are more complex than a sequence of linear layers (we will learn about them in later posts). But we also don't want to manually define every part of the model. By subclassing nn.Module and defining a forward we can have the flexibility of creating complex architectures with all the functionalities of torch.nn.Sequential."
      ]
    },
    {
      "cell_type": "code",
      "metadata": {
        "id": "TL9wrffMYk6t",
        "colab_type": "code",
        "outputId": "47a503e0-0454-47e5-a3cc-76fcfea71a2b",
        "colab": {
          "base_uri": "https://localhost:8080/",
          "height": 202
        }
      },
      "source": [
        "# Define Model\n",
        "class Net(torch.nn.Module):\n",
        "\n",
        "  def __init__(self):\n",
        "    super(Net, self).__init__()\n",
        "    self.Layer1 = torch.nn.Sequential(torch.nn.Linear(1, 100, bias=True), torch.nn.ReLU(), torch.nn.Linear(100, 1, bias=True))\n",
        "\n",
        "  def forward(self, Input):\n",
        "    Prediction = self.Layer1(Input)\n",
        "    return Prediction\n",
        "\n",
        "# Instantiate Model\n",
        "Model = Net()\n",
        "\n",
        "# Loss Function\n",
        "Loss_Function = torch.nn.MSELoss()\n",
        "\n",
        "learning_rate = 0.001\n",
        "\n",
        "for i in range(1000):\n",
        "  \n",
        "  # Forward Pass \n",
        "  Predicted = Model(Input)\n",
        "\n",
        "  # Compute and Print Loss  \n",
        "  Loss = Loss_Function(Target, Predicted)\n",
        "  if i%100 == 0:\n",
        "    print('MSE for epoch {} is {}'.format(i, Loss))\n",
        "\n",
        "  # Backward Pass\n",
        "  Loss.backward()\n",
        "  with torch.no_grad():\n",
        "    for parameters in Model.parameters():\n",
        "      parameters -= learning_rate * parameters.grad \n",
        "    Model.zero_grad()\n",
        "\n",
        "print('MSE for epoch {} is {}'.format(i, Loss))"
      ],
      "execution_count": 0,
      "outputs": [
        {
          "output_type": "stream",
          "text": [
            "MSE for epoch 0 is 0.5430305004119873\n",
            "MSE for epoch 100 is 0.0666835829615593\n",
            "MSE for epoch 200 is 0.05978963151574135\n",
            "MSE for epoch 300 is 0.05438756197690964\n",
            "MSE for epoch 400 is 0.049601368606090546\n",
            "MSE for epoch 500 is 0.04527349770069122\n",
            "MSE for epoch 600 is 0.04134185612201691\n",
            "MSE for epoch 700 is 0.03776630014181137\n",
            "MSE for epoch 800 is 0.034514039754867554\n",
            "MSE for epoch 900 is 0.031555745750665665\n",
            "MSE for epoch 999 is 0.028890695422887802\n"
          ],
          "name": "stdout"
        }
      ]
    },
    {
      "cell_type": "code",
      "metadata": {
        "id": "_sPnrIrTn_7U",
        "colab_type": "code",
        "outputId": "1fc883ca-a556-45fd-dc13-703ed970deb2",
        "colab": {
          "base_uri": "https://localhost:8080/",
          "height": 282
        }
      },
      "source": [
        "plt.scatter(Input.numpy(), Predicted.detach().numpy())"
      ],
      "execution_count": 0,
      "outputs": [
        {
          "output_type": "execute_result",
          "data": {
            "text/plain": [
              "<matplotlib.collections.PathCollection at 0x7f3416e13518>"
            ]
          },
          "metadata": {
            "tags": []
          },
          "execution_count": 35
        },
        {
          "output_type": "display_data",
          "data": {
            "image/png": "[encoded data removed]",
            "text/plain": [
              "<Figure size 432x288 with 1 Axes>"
            ]
          },
          "metadata": {
            "tags": []
          }
        }
      ]
    },
    {
      "cell_type": "markdown",
      "metadata": {
        "id": "zepK0fITfJuP",
        "colab_type": "text"
      },
      "source": [
        "## **torch.optim Module**\n",
        "\n",
        "Till now were manually implementing Gradient Descent for updating the parameters and reduce loss. Pytorch has a built-in package to do it for us - ***torch.optim***. \n",
        "\n",
        "Also, ***torch.optim** contains more advanced and faster optimization algorithms, like Adam, that can be hard to implement manually."
      ]
    },
    {
      "cell_type": "code",
      "metadata": {
        "id": "RicBnBScob7X",
        "colab_type": "code",
        "outputId": "804d90dc-2784-4441-d5b9-3a4571068aac",
        "colab": {
          "base_uri": "https://localhost:8080/",
          "height": 202
        }
      },
      "source": [
        "# Define Model\n",
        "class Net(torch.nn.Module):\n",
        "\n",
        "  def __init__(self):\n",
        "    super(Net, self).__init__()\n",
        "    self.Layer1 = torch.nn.Sequential(torch.nn.Linear(1, 100, bias=True), torch.nn.ReLU(), torch.nn.Linear(100, 1, bias=True))\n",
        "\n",
        "  def forward(self, Input):\n",
        "    Prediction = self.Layer1(Input)\n",
        "    return Prediction\n",
        "\n",
        "# Instantiate Model\n",
        "Model = Net()\n",
        "\n",
        "# Loss Function\n",
        "Loss_Function = torch.nn.MSELoss()\n",
        "\n",
        "learning_rate = 0.001\n",
        "\n",
        "# Define an Optimizer that will update the model parameters\n",
        "# Pass the model parameters as an argument\n",
        "Optimizer = torch.optim.SGD(Model.parameters(), lr=learning_rate)\n",
        "\n",
        "for i in range(1000):\n",
        "  \n",
        "  # Forward Pass \n",
        "  Predicted = Model(Input)\n",
        "\n",
        "  # Compute and Print Loss  \n",
        "  Loss = Loss_Function(Target, Predicted)\n",
        "  if i%100 == 0:\n",
        "    print('MSE for epoch {} is {}'.format(i, Loss))\n",
        "\n",
        "  # Backward Pass\n",
        "  Loss.backward()\n",
        "  Optimizer.step()\n",
        "  Optimizer.zero_grad()\n",
        "\n",
        "print('MSE for epoch {} is {}'.format(i, Loss))"
      ],
      "execution_count": 0,
      "outputs": [
        {
          "output_type": "stream",
          "text": [
            "MSE for epoch 0 is 0.15619592368602753\n",
            "MSE for epoch 100 is 0.05511590093374252\n",
            "MSE for epoch 200 is 0.04935644194483757\n",
            "MSE for epoch 300 is 0.045497287064790726\n",
            "MSE for epoch 400 is 0.04216627776622772\n",
            "MSE for epoch 500 is 0.03911922872066498\n",
            "MSE for epoch 600 is 0.03629707172513008\n",
            "MSE for epoch 700 is 0.03367684409022331\n",
            "MSE for epoch 800 is 0.031243260949850082\n",
            "MSE for epoch 900 is 0.028983399271965027\n",
            "MSE for epoch 999 is 0.02690545655786991\n"
          ],
          "name": "stdout"
        }
      ]
    },
    {
      "cell_type": "code",
      "metadata": {
        "id": "YrdS3RxAQUAV",
        "colab_type": "code",
        "outputId": "d2200f28-dc1e-471e-b48b-6656c1c14a9e",
        "colab": {
          "base_uri": "https://localhost:8080/",
          "height": 282
        }
      },
      "source": [
        "plt.scatter(Input.numpy(), Predicted.detach().numpy())"
      ],
      "execution_count": 0,
      "outputs": [
        {
          "output_type": "execute_result",
          "data": {
            "text/plain": [
              "<matplotlib.collections.PathCollection at 0x7f3416dfa898>"
            ]
          },
          "metadata": {
            "tags": []
          },
          "execution_count": 37
        },
        {
          "output_type": "display_data",
          "data": {
            "image/png": "[encoded data removed]",
            "text/plain": [
              "<Figure size 432x288 with 1 Axes>"
            ]
          },
          "metadata": {
            "tags": []
          }
        }
      ]
    },
    {
      "cell_type": "markdown",
      "metadata": {
        "id": "w8Hdtu2ihm_9",
        "colab_type": "text"
      },
      "source": [
        "## **Mini-Batch**\n",
        "\n",
        "As the model and the data grows bigger, we won't be able to do calculations for the whole data in one step. As the matrix grows we will start running out of resources. To deal with this problem we split the training dataset into small batches and use one batch at a time to calculate loss and update model parameters.\n",
        "\n",
        "Note: When we use batches to calculate loss and update parameters instead of the whole data, it is known as 'mini-batch' gradient descent. If the batch has only 1 data element, it becomes stochastic gradient descent.\n",
        "\n",
        "Let's implement it in our model."
      ]
    },
    {
      "cell_type": "code",
      "metadata": {
        "id": "857mak68lv-A",
        "colab_type": "code",
        "outputId": "a98940a3-0198-48f9-fc4e-c5000283f024",
        "colab": {
          "base_uri": "https://localhost:8080/",
          "height": 202
        }
      },
      "source": [
        "# Define Model\n",
        "class Net(torch.nn.Module):\n",
        "\n",
        "  def __init__(self):\n",
        "    super(Net, self).__init__()\n",
        "    self.Layer1 = torch.nn.Sequential(torch.nn.Linear(1, 100, bias=True), torch.nn.ReLU(), torch.nn.Linear(100, 1, bias=True))\n",
        "\n",
        "  def forward(self, Input):\n",
        "    Prediction = self.Layer1(Input)\n",
        "    return Prediction\n",
        "\n",
        "# Instantiate Model\n",
        "Model = Net()\n",
        "\n",
        "# Loss Function\n",
        "Loss_Function = torch.nn.MSELoss()\n",
        "\n",
        "learning_rate = 0.001\n",
        "# Divide the data into small batches where every batch will have atmost 1000 elements\n",
        "batch_size = 1000\n",
        "epoch = 1000\n",
        "sample_size = 10000\n",
        "\n",
        "# Optimizer\n",
        "Optimizer = torch.optim.SGD(Model.parameters(), lr=learning_rate)\n",
        "\n",
        "for epoch in range(epoch):\n",
        "  i = 0\n",
        "  # Second loop for going through each batch every epoch\n",
        "  for batch in range(sample_size//batch_size):\n",
        "\n",
        "    # Create a batch of Inputs and Targets\n",
        "    X = Input[i:i+batch_size]\n",
        "    Y = Target[i:i+batch_size]\n",
        "    i+=batch_size\n",
        "\n",
        "    # Forward Pass \n",
        "    Predicted = Model(X)\n",
        "\n",
        "    # Compute Loss\n",
        "    Loss = Loss_Function(Y, Predicted)\n",
        "\n",
        "    # Backward Pass\n",
        "    Loss.backward()\n",
        "    Optimizer.step()\n",
        "    Optimizer.zero_grad()\n",
        "\n",
        "  # Print Loss\n",
        "  if epoch%100 == 0:\n",
        "    print('MSE for epoch {} is {}'.format(epoch, Loss))\n",
        "\n",
        "print('MSE for epoch {} is {}'.format(epoch, Loss))"
      ],
      "execution_count": 0,
      "outputs": [
        {
          "output_type": "stream",
          "text": [
            "MSE for epoch 0 is 0.3917778730392456\n",
            "MSE for epoch 100 is 0.047100380063056946\n",
            "MSE for epoch 200 is 0.027526233345270157\n",
            "MSE for epoch 300 is 0.01595677062869072\n",
            "MSE for epoch 400 is 0.009315085597336292\n",
            "MSE for epoch 500 is 0.005606395658105612\n",
            "MSE for epoch 600 is 0.0035743031185120344\n",
            "MSE for epoch 700 is 0.0024663754738867283\n",
            "MSE for epoch 800 is 0.0018539407756179571\n",
            "MSE for epoch 900 is 0.0015028283232823014\n",
            "MSE for epoch 999 is 0.0012905359035357833\n"
          ],
          "name": "stdout"
        }
      ]
    },
    {
      "cell_type": "code",
      "metadata": {
        "id": "LnvWSCWMcfU4",
        "colab_type": "code",
        "outputId": "d867f600-e415-436f-f4d2-f674360781b3",
        "colab": {
          "base_uri": "https://localhost:8080/",
          "height": 282
        }
      },
      "source": [
        "Predicted = Model(Input)\n",
        "plt.scatter(Input.numpy(), Predicted.detach().numpy())"
      ],
      "execution_count": 0,
      "outputs": [
        {
          "output_type": "execute_result",
          "data": {
            "text/plain": [
              "<matplotlib.collections.PathCollection at 0x7f3416d5ec88>"
            ]
          },
          "metadata": {
            "tags": []
          },
          "execution_count": 39
        },
        {
          "output_type": "display_data",
          "data": {
            "image/png": "[encoded data removed]",
            "text/plain": [
              "<Figure size 432x288 with 1 Axes>"
            ]
          },
          "metadata": {
            "tags": []
          }
        }
      ]
    },
    {
      "cell_type": "markdown",
      "metadata": {
        "id": "oYm1wujl4Inw",
        "colab_type": "text"
      },
      "source": [
        "### **Dataset Class**\n",
        "\n",
        "PyTorch provides an abstract Dataset class through which we can access both the independent and dependent variables simultaneously."
      ]
    },
    {
      "cell_type": "code",
      "metadata": {
        "id": "AyeFqwl7Fozl",
        "colab_type": "code",
        "colab": {}
      },
      "source": [
        "# Both Input and Target can be combined into a Dataset Object\n",
        "from torch.utils.data import TensorDataset\n",
        "Train = TensorDataset(Input, Target)"
      ],
      "execution_count": 0,
      "outputs": []
    },
    {
      "cell_type": "code",
      "metadata": {
        "id": "MGye21JmFZ48",
        "colab_type": "code",
        "outputId": "2d2972d1-600f-43e1-da94-9b4b27b2b79c",
        "colab": {
          "base_uri": "https://localhost:8080/",
          "height": 202
        }
      },
      "source": [
        "# Define Model\n",
        "class Net(torch.nn.Module):\n",
        "\n",
        "  def __init__(self):\n",
        "    super(Net, self).__init__()\n",
        "    self.Layer1 = torch.nn.Sequential(torch.nn.Linear(1, 100, bias=True), torch.nn.ReLU(), torch.nn.Linear(100, 1, bias=True))\n",
        "\n",
        "  def forward(self, Input):\n",
        "    Prediction = self.Layer1(Input)\n",
        "    return Prediction\n",
        "\n",
        "# Instantiate Model\n",
        "Model = Net()\n",
        "\n",
        "# Loss Function\n",
        "Loss_Function = torch.nn.MSELoss()\n",
        "\n",
        "learning_rate = 0.001\n",
        "# Divide the data into small batches where every batch will have atmost 1000 elements\n",
        "batch_size = 1000\n",
        "epoch = 1000\n",
        "sample_size = 10000\n",
        "\n",
        "# Optimizer\n",
        "Optimizer = torch.optim.SGD(Model.parameters(), lr=learning_rate)\n",
        "\n",
        "for epoch in range(epoch):\n",
        "  i = 0\n",
        "  for batch in range(sample_size//batch_size):\n",
        "    # Create batch for Input and Target simultaneously\n",
        "    X, Y = Train[i:i+batch_size]\n",
        "    i+=batch_size\n",
        "\n",
        "    # Forward Pass \n",
        "    Predicted = Model(X)\n",
        "\n",
        "    # Compute Loss\n",
        "    Loss = Loss_Function(Y, Predicted)\n",
        "\n",
        "    # Backward Pass\n",
        "    Loss.backward()\n",
        "    Optimizer.step()\n",
        "    Optimizer.zero_grad()\n",
        "\n",
        "  # Print Loss\n",
        "  if epoch%100 == 0:\n",
        "    print('MSE for epoch {} is {}'.format(epoch, Loss))\n",
        "\n",
        "print('MSE for epoch {} is {}'.format(epoch, Loss))"
      ],
      "execution_count": 0,
      "outputs": [
        {
          "output_type": "stream",
          "text": [
            "MSE for epoch 0 is 0.10118892788887024\n",
            "MSE for epoch 100 is 0.021638544276356697\n",
            "MSE for epoch 200 is 0.008815986104309559\n",
            "MSE for epoch 300 is 0.0038014284800738096\n",
            "MSE for epoch 400 is 0.0018760001985356212\n",
            "MSE for epoch 500 is 0.00113735964987427\n",
            "MSE for epoch 600 is 0.0008451624307781458\n",
            "MSE for epoch 700 is 0.0007190657779574394\n",
            "MSE for epoch 800 is 0.0006547732627950609\n",
            "MSE for epoch 900 is 0.0006139452452771366\n",
            "MSE for epoch 999 is 0.000582836742978543\n"
          ],
          "name": "stdout"
        }
      ]
    },
    {
      "cell_type": "code",
      "metadata": {
        "id": "8i0Zk271F7qQ",
        "colab_type": "code",
        "outputId": "7df72397-b5d9-4ccb-9bc9-51d320120f7f",
        "colab": {
          "base_uri": "https://localhost:8080/",
          "height": 282
        }
      },
      "source": [
        "Predicted = Model(Input)\n",
        "plt.scatter(Input.numpy(), Predicted.detach().numpy())"
      ],
      "execution_count": 0,
      "outputs": [
        {
          "output_type": "execute_result",
          "data": {
            "text/plain": [
              "<matplotlib.collections.PathCollection at 0x7f3416cdffd0>"
            ]
          },
          "metadata": {
            "tags": []
          },
          "execution_count": 42
        },
        {
          "output_type": "display_data",
          "data": {
            "image/png": "[encoded data removed]",
            "text/plain": [
              "<Figure size 432x288 with 1 Axes>"
            ]
          },
          "metadata": {
            "tags": []
          }
        }
      ]
    },
    {
      "cell_type": "markdown",
      "metadata": {
        "id": "d1Bg-gF7_CYX",
        "colab_type": "text"
      },
      "source": [
        "### **DataLoader**\n",
        "\n",
        "Pytorch’s DataLoader is created using Dataset. DataLoader automatically manages batches and makes it easier to iterate creating mini-batches automatically."
      ]
    },
    {
      "cell_type": "code",
      "metadata": {
        "id": "nEsIisYFGdhS",
        "colab_type": "code",
        "colab": {}
      },
      "source": [
        "from torch.utils.data import DataLoader\n",
        "batch_size = 1000\n",
        "Train_Data = DataLoader(Train, batch_size=batch_size)"
      ],
      "execution_count": 0,
      "outputs": []
    },
    {
      "cell_type": "code",
      "metadata": {
        "id": "LqdTJGOlGdMB",
        "colab_type": "code",
        "outputId": "b4402613-992c-4c5d-9c9e-6438856e4d20",
        "colab": {
          "base_uri": "https://localhost:8080/",
          "height": 202
        }
      },
      "source": [
        "# Define Model\n",
        "class Net(torch.nn.Module):\n",
        "\n",
        "  def __init__(self):\n",
        "    super(Net, self).__init__()\n",
        "    self.Layer1 = torch.nn.Sequential(torch.nn.Linear(1, 100, bias=True), torch.nn.ReLU(), torch.nn.Linear(100, 1, bias=True))\n",
        "\n",
        "  def forward(self, Input):\n",
        "    Prediction = self.Layer1(Input)\n",
        "    return Prediction\n",
        "\n",
        "# Instantiate Model\n",
        "Model = Net()\n",
        "\n",
        "# Loss Function\n",
        "Loss_Function = torch.nn.MSELoss()\n",
        "\n",
        "learning_rate = 0.001\n",
        "epoch = 1000\n",
        "sample_size = 10000\n",
        "\n",
        "# Optimizer\n",
        "Optimizer = torch.optim.SGD(Model.parameters(), lr=learning_rate)\n",
        "\n",
        "for epoch in range(epoch):\n",
        "  # Generate minibatches automatically\n",
        "  for X, Y in Train_Data:\n",
        "\n",
        "    # Forward Pass \n",
        "    Predicted = Model(X)\n",
        "\n",
        "    # Compute Loss\n",
        "    Loss = Loss_Function(Y, Predicted)\n",
        "\n",
        "    # Backward Pass\n",
        "    Loss.backward()\n",
        "    Optimizer.step()\n",
        "    Optimizer.zero_grad()\n",
        "\n",
        "  # Print Loss\n",
        "  if epoch%100 == 0:\n",
        "    print('MSE for epoch {} is {}'.format(epoch, Loss))\n",
        "\n",
        "print('MSE for epoch {} is {}'.format(epoch, Loss))"
      ],
      "execution_count": 0,
      "outputs": [
        {
          "output_type": "stream",
          "text": [
            "MSE for epoch 0 is 0.10962165892124176\n",
            "MSE for epoch 100 is 0.026488548144698143\n",
            "MSE for epoch 200 is 0.010075720958411694\n",
            "MSE for epoch 300 is 0.004697981756180525\n",
            "MSE for epoch 400 is 0.002938089892268181\n",
            "MSE for epoch 500 is 0.0023369460832327604\n",
            "MSE for epoch 600 is 0.002102144295349717\n",
            "MSE for epoch 700 is 0.001983444672077894\n",
            "MSE for epoch 800 is 0.0019027324160560966\n",
            "MSE for epoch 900 is 0.0018357851076871157\n",
            "MSE for epoch 999 is 0.0017756690504029393\n"
          ],
          "name": "stdout"
        }
      ]
    },
    {
      "cell_type": "code",
      "metadata": {
        "id": "eBjvoKVIHYBX",
        "colab_type": "code",
        "outputId": "64e05820-623e-4a3a-dacd-5e16ea615f95",
        "colab": {
          "base_uri": "https://localhost:8080/",
          "height": 282
        }
      },
      "source": [
        "Predicted = Model(Input)\n",
        "plt.scatter(Input.numpy(), Target.numpy())\n",
        "plt.scatter(Input.numpy(), Predicted.detach().numpy())"
      ],
      "execution_count": 0,
      "outputs": [
        {
          "output_type": "execute_result",
          "data": {
            "text/plain": [
              "<matplotlib.collections.PathCollection at 0x7f3416ee60b8>"
            ]
          },
          "metadata": {
            "tags": []
          },
          "execution_count": 45
        },
        {
          "output_type": "display_data",
          "data": {
            "image/png": "[encoded data removed]",
            "text/plain": [
              "<Figure size 432x288 with 1 Axes>"
            ]
          },
          "metadata": {
            "tags": []
          }
        }
      ]
    },
    {
      "cell_type": "markdown",
      "metadata": {
        "id": "EJstx8gTH2Ry",
        "colab_type": "text"
      },
      "source": [
        "## **Adding validation dataset to our pipeline**\n",
        "\n",
        "In practice we usually evaluate the model performance on validation data to see. Let's see how can we add validation data for neural networks."
      ]
    },
    {
      "cell_type": "code",
      "metadata": {
        "id": "JpuIs-HCKHPl",
        "colab_type": "code",
        "colab": {}
      },
      "source": [
        "# Generating validation data using the same method used for generating train data\n",
        "# Since we are randomly generating numbers, it will rarely have any common elements with train data\n",
        "Validation_Input = 2*torch.rand(4000, 1)-1\n",
        "Validation_Target = Validation_Input.pow(2)\n",
        "\n",
        "# We usually use a bigger batch size for validation\n",
        "# Validation set does not need backpropagation and takes less memory\n",
        "Validation = TensorDataset(Validation_Input, Validation_Target)\n",
        "Validation_Data = DataLoader(Validation, batch_size=batch_size*2)"
      ],
      "execution_count": 0,
      "outputs": []
    },
    {
      "cell_type": "code",
      "metadata": {
        "id": "gEAYHC_YJjr6",
        "colab_type": "code",
        "outputId": "a27653de-aaeb-4d54-e90b-96421d464815",
        "colab": {
          "base_uri": "https://localhost:8080/",
          "height": 202
        }
      },
      "source": [
        "# Define Model\n",
        "class Net(torch.nn.Module):\n",
        "\n",
        "  def __init__(self):\n",
        "    super(Net, self).__init__()\n",
        "    self.Layer1 = torch.nn.Sequential(torch.nn.Linear(1, 100, bias=True), torch.nn.ReLU(), torch.nn.Linear(100, 1, bias=True))\n",
        "\n",
        "  def forward(self, Input):\n",
        "    Prediction = self.Layer1(Input)\n",
        "    return Prediction\n",
        "\n",
        "# Instantiate Model\n",
        "Model = Net()\n",
        "\n",
        "# Loss Function\n",
        "Loss_Function = torch.nn.MSELoss()\n",
        "\n",
        "learning_rate = 0.001\n",
        "epoch = 1000\n",
        "sample_size = 10000\n",
        "\n",
        "# Optimizer\n",
        "Optimizer = torch.optim.SGD(Model.parameters(), lr=learning_rate)\n",
        "\n",
        "for epoch in range(epoch):\n",
        "  # Always use model.train() before training\n",
        "  # Advanced features like Dropout are affected by it\n",
        "  Model.train()\n",
        "\n",
        "  # Generate minibatches automatically\n",
        "  for X, Y in Train_Data:\n",
        "\n",
        "    # Forward Pass \n",
        "    Predicted = Model(X)\n",
        "\n",
        "    # Compute Loss\n",
        "    Loss = Loss_Function(Y, Predicted)\n",
        "\n",
        "    # Backward Pass\n",
        "    Loss.backward()\n",
        "    Optimizer.step()\n",
        "    Optimizer.zero_grad()\n",
        "\n",
        "  # Calculate Validation Loss\n",
        "  if epoch%100 == 0:\n",
        "    # Always use model.eval() before inference\n",
        "    Model.eval()\n",
        "    with torch.no_grad():\n",
        "      # Add the loss of all the batches\n",
        "      Validation_Loss = sum(Loss_Function(Y, Model(X)) for X, Y in Validation_Data)\n",
        "      # Divide by number of batches\n",
        "      Validation_Loss = Validation_Loss/len(Validation_Data)\n",
        "    \n",
        "    print('Epoch: {}. Train MSE: {}. Validation MSE: {}'.format(epoch, Loss, Validation_Loss))\n",
        "\n",
        "# Calulate Validation Loss\n",
        "Model.eval()\n",
        "with torch.no_grad():\n",
        "  Validation_Loss = sum(Loss_Function(Y, Model(X)) for X, Y in Validation_Data)\n",
        "  Validation_Loss = Validation_Loss/len(Validation_Data)\n",
        "\n",
        "print('Epoch: {}. Train MSE: {}. Validation MSE: {}'.format(epoch, Loss, Validation_Loss))"
      ],
      "execution_count": 0,
      "outputs": [
        {
          "output_type": "stream",
          "text": [
            "Epoch: 0. Train MSE: 0.13967250287532806. Validation MSE: 0.14241859316825867\n",
            "Epoch: 100. Train MSE: 0.041266076266765594. Validation MSE: 0.0435674786567688\n",
            "Epoch: 200. Train MSE: 0.01690182462334633. Validation MSE: 0.017931733280420303\n",
            "Epoch: 300. Train MSE: 0.006995978765189648. Validation MSE: 0.00747634656727314\n",
            "Epoch: 400. Train MSE: 0.0030869573820382357. Validation MSE: 0.003329621162265539\n",
            "Epoch: 500. Train MSE: 0.0015749171143397689. Validation MSE: 0.0017123932484537363\n",
            "Epoch: 600. Train MSE: 0.0009913836838677526. Validation MSE: 0.0010800831951200962\n",
            "Epoch: 700. Train MSE: 0.0007597575895488262. Validation MSE: 0.0008243080810643733\n",
            "Epoch: 800. Train MSE: 0.0006598331383429468. Validation MSE: 0.0007114642066881061\n",
            "Epoch: 900. Train MSE: 0.0006090560927987099. Validation MSE: 0.0006531901890411973\n",
            "Epoch: 999. Train MSE: 0.0005771310534328222. Validation MSE: 0.0006165735539980233\n"
          ],
          "name": "stdout"
        }
      ]
    },
    {
      "cell_type": "code",
      "metadata": {
        "id": "2HAphFxDPvkv",
        "colab_type": "code",
        "outputId": "356b1de9-76aa-40b6-82e6-ad0ec8224469",
        "colab": {
          "base_uri": "https://localhost:8080/",
          "height": 298
        }
      },
      "source": [
        "# Plot Train Predictions\n",
        "Model.eval()\n",
        "Predicted = Model(Input)\n",
        "plt.title('Training Performance')\n",
        "plt.scatter(Input.numpy(), Target.numpy())\n",
        "plt.scatter(Input.numpy(), Predicted.detach().numpy())"
      ],
      "execution_count": 0,
      "outputs": [
        {
          "output_type": "execute_result",
          "data": {
            "text/plain": [
              "<matplotlib.collections.PathCollection at 0x7f3416c41a20>"
            ]
          },
          "metadata": {
            "tags": []
          },
          "execution_count": 48
        },
        {
          "output_type": "display_data",
          "data": {
            "image/png": "[encoded data removed]",
            "text/plain": [
              "<Figure size 432x288 with 1 Axes>"
            ]
          },
          "metadata": {
            "tags": []
          }
        }
      ]
    },
    {
      "cell_type": "code",
      "metadata": {
        "id": "0uPGDO7MP6sL",
        "colab_type": "code",
        "outputId": "82400f0f-5bad-49f5-b6fe-d5c20ec2d37a",
        "colab": {
          "base_uri": "https://localhost:8080/",
          "height": 298
        }
      },
      "source": [
        "# Plot Validation Predictions\n",
        "Model.eval()\n",
        "Validation_Predicted = Model(Validation_Input)\n",
        "plt.title('Validation Performance')\n",
        "plt.scatter(Validation_Input.numpy(), Validation_Target.numpy())\n",
        "plt.scatter(Validation_Input.numpy(), Validation_Predicted.detach().numpy())"
      ],
      "execution_count": 0,
      "outputs": [
        {
          "output_type": "execute_result",
          "data": {
            "text/plain": [
              "<matplotlib.collections.PathCollection at 0x7f3416b94668>"
            ]
          },
          "metadata": {
            "tags": []
          },
          "execution_count": 49
        },
        {
          "output_type": "display_data",
          "data": {
            "image/png": "[encoded data removed]",
            "text/plain": [
              "<Figure size 432x288 with 1 Axes>"
            ]
          },
          "metadata": {
            "tags": []
          }
        }
      ]
    },
    {
      "cell_type": "markdown",
      "metadata": {
        "id": "ZYP-TIRAbEyN",
        "colab_type": "text"
      },
      "source": [
        "Our simple neural network is approximating the non-linear relationship between *Input* and *Target* quite well. Using validation data, we can also confirm that our model is generalizing well and not overfitting.\n",
        "\n",
        "We can use this approach to create complicated Neural Networks for large dimensional data very easily."
      ]
    },
    {
      "cell_type": "markdown",
      "metadata": {
        "id": "lANGBXCydJKE",
        "colab_type": "text"
      },
      "source": [
        "## **Classification using Neural Networks**\n",
        "\n",
        "Till now we have only looked at regression problem. Let's create a neural network with 2 Hidden Layers for a classification problem.\n",
        "\n",
        "Let's start by generating training and validation data."
      ]
    },
    {
      "cell_type": "code",
      "metadata": {
        "id": "wjXLoRexd77_",
        "colab_type": "code",
        "colab": {}
      },
      "source": [
        "Input = 2*torch.rand(15000, 2, dtype=torch.float)-1\n",
        "Target = torch.zeros(15000, dtype=torch.long)\n",
        "Target[Input[:,0].pow(2) + Input[:,1].pow(2) >= 1] = 1\n",
        "Target[Input[:,0].pow(2) + Input[:,1].pow(2) < 0.25] = 2"
      ],
      "execution_count": 0,
      "outputs": []
    },
    {
      "cell_type": "markdown",
      "metadata": {
        "id": "7blR-n5BmvlI",
        "colab_type": "text"
      },
      "source": [
        "We want our neural network to correctly identify in which region a coordinates will lie in."
      ]
    },
    {
      "cell_type": "code",
      "metadata": {
        "id": "1b-huTQ2fGTK",
        "colab_type": "code",
        "outputId": "ec14a514-072a-42cf-f8ce-9f02f5bd4ff3",
        "colab": {
          "base_uri": "https://localhost:8080/",
          "height": 298
        }
      },
      "source": [
        "plt.title('Classification Data')\n",
        "plt.scatter(Input[:, 0].numpy(), Input[:, 1].numpy(), c=Target.numpy())"
      ],
      "execution_count": 0,
      "outputs": [
        {
          "output_type": "execute_result",
          "data": {
            "text/plain": [
              "<matplotlib.collections.PathCollection at 0x7f3416e4f9b0>"
            ]
          },
          "metadata": {
            "tags": []
          },
          "execution_count": 51
        },
        {
          "output_type": "display_data",
          "data": {
            "image/png": "[encoded data removed]",
            "text/plain": [
              "<Figure size 432x288 with 1 Axes>"
            ]
          },
          "metadata": {
            "tags": []
          }
        }
      ]
    },
    {
      "cell_type": "code",
      "metadata": {
        "id": "uh47qBxZgao7",
        "colab_type": "code",
        "colab": {}
      },
      "source": [
        "from torch.utils.data import TensorDataset\n",
        "from torch.utils.data import DataLoader\n",
        "\n",
        "Train_Dataset = TensorDataset(Input[:10000], Target[:10000])\n",
        "Validation_Dataset = TensorDataset(Input[10000:], Target[10000:])\n",
        "\n",
        "batch_size = 1000\n",
        "Train_DataLoader = DataLoader(Train_Dataset, batch_size=batch_size, shuffle=True)\n",
        "Validation_DataLoader = DataLoader(Validation_Dataset, batch_size=batch_size*2)"
      ],
      "execution_count": 0,
      "outputs": []
    },
    {
      "cell_type": "markdown",
      "metadata": {
        "id": "WTL69O7m3MyM",
        "colab_type": "text"
      },
      "source": [
        "The objective is to create a Neural Network that can identify the region of the coordinates.\n",
        "\n",
        "We can create a neural network in the same way using ***torch.nn.Module***. We will use gradient descent, exactly in the same way as implemented for regression, to update our weights.\n",
        "\n",
        "The only change is we will be use a different loss function as *MSE* can't be used for classification problems."
      ]
    },
    {
      "cell_type": "code",
      "metadata": {
        "id": "9DG7DNYBkxt1",
        "colab_type": "code",
        "outputId": "3c100a72-1ddb-47c9-c7e7-1db8c702522b",
        "colab": {
          "base_uri": "https://localhost:8080/",
          "height": 202
        }
      },
      "source": [
        "# Define Model with 2 Hidden Layers\n",
        "# Each Hidden Layer has 100 Hidden Units with ReLU Activations\n",
        "class Net(torch.nn.Module):\n",
        "\n",
        "  def __init__(self):\n",
        "    super(Net, self).__init__()\n",
        "    self.Layer1 = torch.nn.Sequential(torch.nn.Linear(2, 100), torch.nn.ReLU())\n",
        "    self.Layer2 = torch.nn.Sequential(torch.nn.Linear(100, 100), torch.nn.ReLU())\n",
        "    self.Layer3 = torch.nn.Linear(100, 3)\n",
        "\n",
        "  def forward(self, X):\n",
        "    X = self.Layer1(X)\n",
        "    X = self.Layer2(X)\n",
        "    X = self.Layer3(X)\n",
        "    return X\n",
        "\n",
        "# Instantiate Model\n",
        "Model = Net()\n",
        "\n",
        "# Loss Function - Cross Entropy Loss\n",
        "# It is the most commonly used loss function for Classification\n",
        "# It combines negative log likelihood loss and log softmax activation\n",
        "Loss_Function = torch.nn.CrossEntropyLoss()\n",
        "\n",
        "learning_rate = 0.01\n",
        "epoch = 1000\n",
        "sample_size = 10000\n",
        "\n",
        "# Optimizer - Stochastic Gradient Descent\n",
        "Optimizer = torch.optim.SGD(Model.parameters(), lr=learning_rate)\n",
        "\n",
        "for epoch in range(epoch):\n",
        "  Model.train()\n",
        "  for X, Y in Train_DataLoader:\n",
        "\n",
        "    # Forward Pass \n",
        "    Predicted = Model(X)\n",
        "\n",
        "    # Compute Loss\n",
        "    Loss = Loss_Function(Predicted, Y)\n",
        "\n",
        "    # Backward Pass\n",
        "    Loss.backward()\n",
        "    Optimizer.step()\n",
        "    Optimizer.zero_grad()\n",
        "\n",
        "  # Calculate Validation Loss\n",
        "  if epoch%100 == 0:\n",
        "    Model.eval()\n",
        "    with torch.no_grad():\n",
        "      Validation_Loss = sum(Loss_Function(Model(X), Y) for X, Y in Validation_DataLoader)\n",
        "      Validation_Loss = Validation_Loss/len(Validation_Data)\n",
        "    print('Epoch: {}. Train Loss: {}. Validation Loss: {}'.format(epoch, Loss, Validation_Loss))\n",
        "\n",
        "# Calulate Validation Loss\n",
        "Model.eval()\n",
        "with torch.no_grad():\n",
        "  Validation_Loss = sum(Loss_Function(Model(X), Y) for X, Y in Validation_DataLoader)\n",
        "  Validation_Loss = Validation_Loss/len(Validation_DataLoader)\n",
        "\n",
        "print('Epoch: {}. Train Loss: {}. Validation Loss: {}'.format(epoch, Loss, Validation_Loss))"
      ],
      "execution_count": 0,
      "outputs": [
        {
          "output_type": "stream",
          "text": [
            "Epoch: 0. Train Loss: 1.0692033767700195. Validation Loss: 1.6002000570297241\n",
            "Epoch: 100. Train Loss: 0.7870098948478699. Validation Loss: 1.2232086658477783\n",
            "Epoch: 200. Train Loss: 0.5144855380058289. Validation Loss: 0.7721951007843018\n",
            "Epoch: 300. Train Loss: 0.3202561140060425. Validation Loss: 0.47720080614089966\n",
            "Epoch: 400. Train Loss: 0.22362343966960907. Validation Loss: 0.3464054465293884\n",
            "Epoch: 500. Train Loss: 0.18477129936218262. Validation Loss: 0.2803383469581604\n",
            "Epoch: 600. Train Loss: 0.15685611963272095. Validation Loss: 0.24029332399368286\n",
            "Epoch: 700. Train Loss: 0.14225637912750244. Validation Loss: 0.21260468661785126\n",
            "Epoch: 800. Train Loss: 0.13021738827228546. Validation Loss: 0.19212421774864197\n",
            "Epoch: 900. Train Loss: 0.10743986815214157. Validation Loss: 0.17630931735038757\n",
            "Epoch: 999. Train Loss: 0.1008223295211792. Validation Loss: 0.10922089964151382\n"
          ],
          "name": "stdout"
        }
      ]
    },
    {
      "cell_type": "code",
      "metadata": {
        "id": "D2myE6rzkSt-",
        "colab_type": "code",
        "outputId": "a0b118a7-57e5-4c1f-e01b-305d43671b76",
        "colab": {
          "base_uri": "https://localhost:8080/",
          "height": 50
        }
      },
      "source": [
        "Model.eval()\n",
        "Predicted = Model(Input)\n",
        "print('Training Accuracy:', (Predicted[:10000].argmax(1) == Target[:10000]).float().mean().item())\n",
        "print('Validation Accuracy', (Predicted[10000:].argmax(1) == Target[10000:]).float().mean().item())"
      ],
      "execution_count": 0,
      "outputs": [
        {
          "output_type": "stream",
          "text": [
            "Training Accuracy: 0.9822999835014343\n",
            "Validation Accuracy 0.9818000197410583\n"
          ],
          "name": "stdout"
        }
      ]
    },
    {
      "cell_type": "code",
      "metadata": {
        "id": "brtLyXLRddU4",
        "colab_type": "code",
        "outputId": "d51a702c-3e66-41fc-b0c8-61ac7539db6d",
        "colab": {
          "base_uri": "https://localhost:8080/",
          "height": 298
        }
      },
      "source": [
        "plt.title('Training Data')\n",
        "plt.scatter(Input[:10000, 0].numpy(), Input[:10000, 1].numpy(), c=Predicted.argmax(1).numpy()[:10000])"
      ],
      "execution_count": 0,
      "outputs": [
        {
          "output_type": "execute_result",
          "data": {
            "text/plain": [
              "<matplotlib.collections.PathCollection at 0x7f3416fdc5f8>"
            ]
          },
          "metadata": {
            "tags": []
          },
          "execution_count": 55
        },
        {
          "output_type": "display_data",
          "data": {
            "image/png": "[encoded data removed]",
            "text/plain": [
              "<Figure size 432x288 with 1 Axes>"
            ]
          },
          "metadata": {
            "tags": []
          }
        }
      ]
    },
    {
      "cell_type": "code",
      "metadata": {
        "id": "RLzX39hDXMpq",
        "colab_type": "code",
        "outputId": "ae904b64-c89f-4f27-b1da-c06f52b6153d",
        "colab": {
          "base_uri": "https://localhost:8080/",
          "height": 298
        }
      },
      "source": [
        "plt.title('Validation Data')\n",
        "plt.scatter(Input[10000:, 0].numpy(), Input[10000:, 1].numpy(), c=Predicted.argmax(1).numpy()[10000:])"
      ],
      "execution_count": 0,
      "outputs": [
        {
          "output_type": "execute_result",
          "data": {
            "text/plain": [
              "<matplotlib.collections.PathCollection at 0x7f3416b3afd0>"
            ]
          },
          "metadata": {
            "tags": []
          },
          "execution_count": 56
        },
        {
          "output_type": "display_data",
          "data": {
            "image/png": "[encoded data removed]",
            "text/plain": [
              "<Figure size 432x288 with 1 Axes>"
            ]
          },
          "metadata": {
            "tags": []
          }
        }
      ]
    },
    {
      "cell_type": "markdown",
      "metadata": {
        "id": "b0P4ANp7rDBa",
        "colab_type": "text"
      },
      "source": [
        "The predictions are visibly near identical to the actual target. We also observe that the accuracy is greater than 98% for both Train and *Validation*. It shows how powerful neural networks can be."
      ]
    },
    {
      "cell_type": "markdown",
      "metadata": {
        "id": "Gi3yDRcsrvF3",
        "colab_type": "text"
      },
      "source": [
        "# Summary\n",
        "\n",
        "We now should have a good understanding of how neural network basics, how they work, what are model parameters and why activations functions are important. \n",
        "\n",
        "On the practical front, we can now create a neural network from scratch using Pytorch, calculate loss, implement gradient descent to update weights, measure performance on a seperate validation dataset and use pre-built Pytorch functionalities like torch.nn, torch.optim or DataLoaders.\n",
        "\n",
        "Using the approach shown in this tutorial, you can now harness the power of neural networks to solve many real-world problems. I hope this will encourage you to dive deeper into the world of deep learning.\n",
        "\n",
        "\n",
        "\n"
      ]
    }
  ]
}