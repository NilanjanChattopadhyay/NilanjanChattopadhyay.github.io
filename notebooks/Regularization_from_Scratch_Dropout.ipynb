{
  "nbformat": 4,
  "nbformat_minor": 0,
  "metadata": {
    "colab": {
      "name": "Regularization-from-Scratch-Dropout.ipynb",
      "provenance": [],
      "collapsed_sections": [],
      "authorship_tag": "ABX9TyOuUrvqboDbQ8QYi2dCks9M",
      "include_colab_link": true
    },
    "kernelspec": {
      "name": "python3",
      "display_name": "Python 3"
    }
  },
  "cells": [
    {
      "cell_type": "markdown",
      "metadata": {
        "id": "view-in-github",
        "colab_type": "text"
      },
      "source": [
        "<a href=\"https://colab.research.google.com/github/NilanjanChattopadhyay/NilanjanChattopadhyay.github.io/blob/master/notebooks/Regularization_from_Scratch_Dropout.ipynb\" target=\"_parent\"><img src=\"https://colab.research.google.com/assets/colab-badge.svg\" alt=\"Open In Colab\"/></a>"
      ]
    },
    {
      "cell_type": "markdown",
      "metadata": {
        "id": "K2FkKXcYZVJ8",
        "colab_type": "text"
      },
      "source": [
        "Neural networks containing multiple non-linear hidden layers are universal approximators capable of learning very complicated relationships between inputs and outputs. This makes them extremely flexible and very powerful machine learning systems as we saw on the last [post](https://nilanjanchattopadhyay.github.io/basics/2020/04/01/Deep-Learning-from-Scratch.html). But this flexibility can lead to overfitting, a common problem in neural networks. Large deep learning models often perform far better on training data than on validation data. \n",
        "\n",
        "Let's try to see that in practice. We will start by creating a synthetic data [like we did previously](https://nilanjanchattopadhyay.github.io/basics/2020/04/01/Deep-Learning-from-Scratch.html).\n",
        "\n"
      ]
    },
    {
      "cell_type": "code",
      "metadata": {
        "id": "dTz6Be7WQ1pV",
        "colab_type": "code",
        "colab": {}
      },
      "source": [
        "%load_ext autoreload\n",
        "%autoreload 2\n",
        "\n",
        "%matplotlib inline"
      ],
      "execution_count": 0,
      "outputs": []
    },
    {
      "cell_type": "code",
      "metadata": {
        "id": "B4CR85RTQ6HB",
        "colab_type": "code",
        "colab": {}
      },
      "source": [
        "# Import libraries\n",
        "import numpy as np\n",
        "import pandas as pd\n",
        "import matplotlib.pyplot as plt\n",
        "import torch"
      ],
      "execution_count": 0,
      "outputs": []
    },
    {
      "cell_type": "code",
      "metadata": {
        "id": "-fgYMrm8Q58e",
        "colab_type": "code",
        "colab": {}
      },
      "source": [
        "# The parameters of neural networks are initialized at random\n",
        "# By setting a seed we should get the same initial weights every time\n",
        "torch.manual_seed(42)\n",
        "torch.backends.cudnn.deterministic = True\n",
        "torch.backends.cudnn.benchmark = False"
      ],
      "execution_count": 0,
      "outputs": []
    },
    {
      "cell_type": "markdown",
      "metadata": {
        "id": "tKQA5h1asEWv",
        "colab_type": "text"
      },
      "source": [
        "Here we are creating a *Input* data with 100 dimensions and 10,000 data points randomly generated from $ U(-1, 1] $. Let's denote the dimensions of the *Input* vectors as $ x_{0}, x_{1}, \\dots x_{99} $."
      ]
    },
    {
      "cell_type": "code",
      "metadata": {
        "id": "aSmsNnwpRXCg",
        "colab_type": "code",
        "colab": {}
      },
      "source": [
        "Input = 2*torch.rand(10000, 100)-1"
      ],
      "execution_count": 0,
      "outputs": []
    },
    {
      "cell_type": "markdown",
      "metadata": {
        "id": "Krd4PrUrUHhx",
        "colab_type": "text"
      },
      "source": [
        "## Experiment 1 - High Dimensional Data with Extra Variables and Random Noise\n",
        "\n",
        "We will create a *Target* vector from the input using the following relation:\n",
        "\n",
        "$$ Target = f(x_{0}, x_{1}, \\dots x_{99}) = x_{0}^{0} - x_{1} + x_{2}^{2} - x_{3} \\dots  x_{46}^{46} - x_{47} + x_{48}^{48} - x_{49} + \\epsilon $$\n",
        "$$ \\text{where } \\epsilon \\text{ is random noise} $$\n",
        "\n",
        "There is no reason for choosing this particular relation between *Input* and *Target*. We are trying to create a high-dimensional regression problem with non-linear relationship between the *Input* and *Target* vectors. Though the *Input* has 100 dimensions/variables, note that the relation is dependent on only 50 variables. In practice we will always have extra variables and noise in our data.\n"
      ]
    },
    {
      "cell_type": "code",
      "metadata": {
        "id": "9xreNDFOSjh8",
        "colab_type": "code",
        "colab": {}
      },
      "source": [
        "Target = torch.zeros(10000)\n",
        "for i in range(50):\n",
        "  if i%2 == 0:\n",
        "    Temp = Input[:, i].pow(i)\n",
        "    Target += Temp\n",
        "  else:\n",
        "    Temp = Input[:, i]\n",
        "    Target -= Temp"
      ],
      "execution_count": 0,
      "outputs": []
    },
    {
      "cell_type": "code",
      "metadata": {
        "id": "moLGjStfoueX",
        "colab_type": "code",
        "colab": {}
      },
      "source": [
        "# Add Random Noise\n",
        "Noise = 0.5*torch.randn_like(Target)\n",
        "Target += Noise"
      ],
      "execution_count": 0,
      "outputs": []
    },
    {
      "cell_type": "code",
      "metadata": {
        "id": "aVW0Cnv2d2l9",
        "colab_type": "code",
        "outputId": "9a1106f9-4db2-4048-c469-460a2ab75d27",
        "colab": {
          "base_uri": "https://localhost:8080/",
          "height": 84
        }
      },
      "source": [
        "print('-'*20, 'Output Cell', '-'*20, '\\n')\n",
        "#Target Dimension\n",
        "print(Target.shape)\n",
        "\n",
        "#Reshape the target variables to appropriate dimension\n",
        "Target = Target.view(10000, 1)\n",
        "\n",
        "#New Target Dimension\n",
        "print(Target.shape)"
      ],
      "execution_count": 7,
      "outputs": [
        {
          "output_type": "stream",
          "text": [
            "-------------------- Output Cell -------------------- \n",
            "\n",
            "torch.Size([10000])\n",
            "torch.Size([10000, 1])\n"
          ],
          "name": "stdout"
        }
      ]
    },
    {
      "cell_type": "markdown",
      "metadata": {
        "id": "InmAadJAdyVA",
        "colab_type": "text"
      },
      "source": [
        "We will use the first 5,000 elements for training our Neural Network and the remaining 5,000 elements for validation. Let's create the *DataLoader* using our *Input* and *Target*."
      ]
    },
    {
      "cell_type": "code",
      "metadata": {
        "id": "C0L8MTuodxwO",
        "colab_type": "code",
        "colab": {}
      },
      "source": [
        "from torch.utils.data import TensorDataset, DataLoader\n",
        "\n",
        "Train_Dataset = TensorDataset(Input[:5000], Target[:5000])\n",
        "Validation_Dataset = TensorDataset(Input[5000:], Target[5000:])\n",
        "\n",
        "batch_size = 1000\n",
        "Train_DataLoader = DataLoader(Train_Dataset, batch_size=batch_size, shuffle=True)\n",
        "Validation_DataLoader = DataLoader(Validation_Dataset, batch_size=batch_size*5)"
      ],
      "execution_count": 0,
      "outputs": []
    },
    {
      "cell_type": "markdown",
      "metadata": {
        "id": "xU1z6JjffP0T",
        "colab_type": "text"
      },
      "source": [
        "The objective is to create a Neural Network that can identify this non-linear high dimensional relationship.\n",
        "\n",
        "Let’s create a neural network with 2 Hidden Layers and 100 units in each hidden layer and training it for 1000 epochs. "
      ]
    },
    {
      "cell_type": "code",
      "metadata": {
        "id": "EeTPE1qUkO5p",
        "colab_type": "code",
        "colab": {}
      },
      "source": [
        "# Define Neural Network\n",
        "class NeuralNetwork(torch.nn.Module):\n",
        "\n",
        "  def __init__(self, Input_Size=100):\n",
        "    super(NeuralNetwork, self).__init__()\n",
        "    self.HiddenLayer_1 = torch.nn.Sequential(torch.nn.Linear(Input_Size, 100), torch.nn.ReLU())\n",
        "    self.HiddenLayer_2 = torch.nn.Sequential(torch.nn.Linear(100, 100), torch.nn.ReLU())\n",
        "    self.OutputLayer = torch.nn.Linear(100, 1)\n",
        "\n",
        "  def forward(self, Input):\n",
        "    Output = self.HiddenLayer_1(Input)\n",
        "    Output = self.HiddenLayer_2(Output)\n",
        "    Output = self.OutputLayer(Output)\n",
        "    return Output\n",
        "\n",
        "# Loss Function - Cross Entropy Loss\n",
        "Loss_Function = torch.nn.MSELoss()\n",
        "\n",
        "def Training(Model, Train_DataLoader, Validation_DataLoader, learning_rate = 0.01, epochs = 1000):\n",
        "  \n",
        "  print('-'*20, 'Output Cell', '-'*20, '\\n')\n",
        "\n",
        "  # Optimizer - Stochastic Gradient Descent\n",
        "  Optimizer = torch.optim.SGD(Model.parameters(), lr=learning_rate)\n",
        "  \n",
        "  for epoch in range(epochs):\n",
        "    Model.train()\n",
        "    for X, Y in Train_DataLoader:\n",
        "      \n",
        "      # Forward Pass \n",
        "      Predicted = Model(X)\n",
        "\n",
        "      # Compute Loss\n",
        "      Loss = Loss_Function(Predicted, Y)\n",
        "\n",
        "      # Backward Pass\n",
        "      Loss.backward()\n",
        "      Optimizer.step()\n",
        "      Optimizer.zero_grad()\n",
        "\n",
        "    # Calculate Validation Loss\n",
        "    if epoch%100 == 0:\n",
        "      Model.eval()\n",
        "      with torch.no_grad():\n",
        "        Validation_Loss = sum(Loss_Function(Model(X), Y) for X, Y in Validation_DataLoader)\n",
        "        Validation_Loss = Validation_Loss/len(Validation_DataLoader)\n",
        "      print('Epoch: {}. Train Loss: {}. Validation Loss: {}'.format(epoch, Loss, Validation_Loss))\n",
        "\n",
        "  # Calulate Validation Loss\n",
        "  Model.eval()\n",
        "  with torch.no_grad():\n",
        "    Validation_Loss = sum(Loss_Function(Model(X), Y) for X, Y in Validation_DataLoader)\n",
        "    Validation_Loss = Validation_Loss/len(Validation_DataLoader)\n",
        "\n",
        "  print('Epoch: {}. Train Loss: {}. Validation Loss: {}'.format(epoch, Loss, Validation_Loss))"
      ],
      "execution_count": 0,
      "outputs": []
    },
    {
      "cell_type": "markdown",
      "metadata": {
        "id": "94B2aOLsmnEr",
        "colab_type": "text"
      },
      "source": [
        "Note that we put the training part of the code in a function. This will make experimentation easier. We just need to run 2 lines of code."
      ]
    },
    {
      "cell_type": "code",
      "metadata": {
        "id": "YUO9bH2efOog",
        "colab_type": "code",
        "outputId": "c9917630-738c-4f25-d4d5-63beab408ca8",
        "colab": {
          "base_uri": "https://localhost:8080/",
          "height": 269
        }
      },
      "source": [
        "%%time\n",
        "\n",
        "# Instantiate Model    \n",
        "Model = NeuralNetwork(Input_Size=100)\n",
        "\n",
        "# Train the Model\n",
        "Training(Model, Train_DataLoader, Validation_DataLoader, learning_rate = 0.01, epochs = 1000)"
      ],
      "execution_count": 10,
      "outputs": [
        {
          "output_type": "stream",
          "text": [
            "-------------------- Output Cell -------------------- \n",
            "\n",
            "Epoch: 0. Train Loss: 14.482518196105957. Validation Loss: 13.808280944824219\n",
            "Epoch: 100. Train Loss: 0.694995105266571. Validation Loss: 0.9867028594017029\n",
            "Epoch: 200. Train Loss: 0.5789515376091003. Validation Loss: 0.9881474375724792\n",
            "Epoch: 300. Train Loss: 0.39037877321243286. Validation Loss: 1.035902500152588\n",
            "Epoch: 400. Train Loss: 0.2847561836242676. Validation Loss: 1.0960569381713867\n",
            "Epoch: 500. Train Loss: 0.21917188167572021. Validation Loss: 1.1488596200942993\n",
            "Epoch: 600. Train Loss: 0.1831873208284378. Validation Loss: 1.2025138139724731\n",
            "Epoch: 700. Train Loss: 0.12253811210393906. Validation Loss: 1.2555932998657227\n",
            "Epoch: 800. Train Loss: 0.09219234436750412. Validation Loss: 1.3032523393630981\n",
            "Epoch: 900. Train Loss: 0.07254666090011597. Validation Loss: 1.34823739528656\n",
            "Epoch: 999. Train Loss: 0.05652352049946785. Validation Loss: 1.3870981931686401\n",
            "CPU times: user 1min, sys: 961 ms, total: 1min 1s\n",
            "Wall time: 1min 2s\n"
          ],
          "name": "stdout"
        }
      ]
    },
    {
      "cell_type": "markdown",
      "metadata": {
        "id": "cnQRFDbViMwv",
        "colab_type": "text"
      },
      "source": [
        "Let's breakdown the output into 2 key points -\n",
        "\n",
        "1.   Our network was able to identify the non-linear high dimensional relationship between *Input* and *Output* for training data with *MSE* ~ 0.056.\n",
        "2.   The *MSE* for validation dataset initially decreased to ~ 0.98 and then started to increase as we continued training never decreasing again.\n",
        "\n",
        "This is a clear case of overfitting.\n",
        "\n",
        "Our network overfitted on a data where the validation data is coming from the exact same distribution. One reason for overfitting could be that our model learnt relations that were not present using the variables that were not part of the relationship: $ x_{50}, x_{51}, \\dots x_{99} $. Another reason could be that our model tried to learn the random noise present in our data.\n",
        "\n",
        "\n",
        "Insert Diagram"
      ]
    },
    {
      "cell_type": "markdown",
      "metadata": {
        "id": "mHj0IANQr-c8",
        "colab_type": "text"
      },
      "source": [
        "## Experiment 2 - High Dimensional Data without Extra Variables or Random Noise\n",
        "\n",
        "What if the we didn't have any noise in the data? And no extra variables? In practice this will be nearly impossible to achieve. But for the sake of experimentation let's do that anyway.\n",
        "\n",
        "Let's recreate the target variable using the following:\n",
        "\n",
        "$$ Target = f(x_{0}, x_{1}, \\dots x_{99}) = x_{0}^{0} - x_{1} + x_{2}^{2} - x_{3} \\dots  x_{96}^{96} - x_{97} + x_{98}^{98} - x_{99} $$"
      ]
    },
    {
      "cell_type": "code",
      "metadata": {
        "id": "VzQZ9frU2jgp",
        "colab_type": "code",
        "colab": {}
      },
      "source": [
        "Target = torch.zeros(10000)\n",
        "for i in range(100):\n",
        "  if i%2 == 0:\n",
        "    Temp = Input[:, i].pow(i)\n",
        "    Target += Temp\n",
        "  else:\n",
        "    Temp = Input[:, i]\n",
        "    Target -= Temp\n",
        "\n",
        "#Reshape the target variables to appropriate dimension\n",
        "Target = Target.view(10000, 1)"
      ],
      "execution_count": 0,
      "outputs": []
    },
    {
      "cell_type": "code",
      "metadata": {
        "id": "YPmV7yrNtNMm",
        "colab_type": "code",
        "colab": {}
      },
      "source": [
        "Train_Dataset = TensorDataset(Input[:5000], Target[:5000])\n",
        "Validation_Dataset = TensorDataset(Input[5000:], Target[5000:])\n",
        "\n",
        "batch_size = 1000\n",
        "Train_DataLoader = DataLoader(Train_Dataset, batch_size=batch_size, shuffle=True)\n",
        "Validation_DataLoader = DataLoader(Validation_Dataset, batch_size=batch_size*5)"
      ],
      "execution_count": 0,
      "outputs": []
    },
    {
      "cell_type": "code",
      "metadata": {
        "id": "3scHy310r5YN",
        "colab_type": "code",
        "outputId": "01f8e9a8-63be-4cf6-aaad-442b9f13bb77",
        "colab": {
          "base_uri": "https://localhost:8080/",
          "height": 269
        }
      },
      "source": [
        "%%time\n",
        "\n",
        "# Instantiate Model    \n",
        "Model = NeuralNetwork(Input_Size=100)\n",
        "\n",
        "# Train the Model\n",
        "Training(Model, Train_DataLoader, Validation_DataLoader, learning_rate = 0.01, epochs = 1000)"
      ],
      "execution_count": 13,
      "outputs": [
        {
          "output_type": "stream",
          "text": [
            "-------------------- Output Cell -------------------- \n",
            "\n",
            "Epoch: 0. Train Loss: 24.328731536865234. Validation Loss: 22.96080780029297\n",
            "Epoch: 100. Train Loss: 0.633903980255127. Validation Loss: 0.9417136907577515\n",
            "Epoch: 200. Train Loss: 0.4260443449020386. Validation Loss: 0.9200699329376221\n",
            "Epoch: 300. Train Loss: 0.3237161636352539. Validation Loss: 0.9383423924446106\n",
            "Epoch: 400. Train Loss: 0.22297456860542297. Validation Loss: 0.9710943102836609\n",
            "Epoch: 500. Train Loss: 0.16448669135570526. Validation Loss: 1.010853886604309\n",
            "Epoch: 600. Train Loss: 0.11311528086662292. Validation Loss: 1.045843243598938\n",
            "Epoch: 700. Train Loss: 0.0968901664018631. Validation Loss: 1.0791065692901611\n",
            "Epoch: 800. Train Loss: 0.07469366490840912. Validation Loss: 1.1124778985977173\n",
            "Epoch: 900. Train Loss: 0.05325717478990555. Validation Loss: 1.1438113451004028\n",
            "Epoch: 999. Train Loss: 0.04721399024128914. Validation Loss: 1.1725291013717651\n",
            "CPU times: user 1min 3s, sys: 959 ms, total: 1min 3s\n",
            "Wall time: 1min 4s\n"
          ],
          "name": "stdout"
        }
      ]
    },
    {
      "cell_type": "markdown",
      "metadata": {
        "id": "-bJ5YDWLttpA",
        "colab_type": "text"
      },
      "source": [
        "Again let's breakdown the results into 2 key points -\n",
        "\n",
        "*   Our network was able to identify the non-linear high dimensional relationship between Input and Output for training data with MSE ~ 0.04\n",
        "*   The MSE for validation dataset initially decreased to ~ 0.92 and then started to increase as we continued training\n",
        "\n",
        "Even in the absence of any statistical noise our model can overfit. As the dimension of the input increases, the flexibility of our model increases. Higher dimension size means more parameters which makes the model's function selection range is wider making it more prone to overfitting as there will be many different functions that can model the training set almost perfectly. \n",
        "\n",
        "Insert Diagram"
      ]
    },
    {
      "cell_type": "markdown",
      "metadata": {
        "id": "Xd7OYQ290CSs",
        "colab_type": "text"
      },
      "source": [
        "\n",
        "There are various ways to address this problem of overfitting. We can reduce the input dimension or increase training data or use weight penalties of various\n",
        "kinds such as $L1$ and $L2$ regularization. In this post we will be looking at one of the key techniques for reducing overfitting in neural networks - **Dropout**."
      ]
    },
    {
      "cell_type": "markdown",
      "metadata": {
        "id": "OKgcY6cNeBO2",
        "colab_type": "text"
      },
      "source": [
        "# **Dropout**\n",
        "\n",
        "In 2014 by Srivastava et al. published a paper titled [Dropout: A Simple Way to Prevent Neural Networks from\n",
        "Overfitting](https://www.cs.toronto.edu/~hinton/absps/JMLRdropout.pdf) revolutionizing the field of deep learning. In their [paper](https://www.cs.toronto.edu/~hinton/absps/JMLRdropout.pdf), they introduced the idea of randomly dropping units from the neural network during training. They explained that dropout prevents overfitting and provides a way of combining different neural network architectures efficiently. \n",
        "\n",
        "Ensembling multiple models is good way to reduce overfitting and nearly always improves the performance. So, we can train large number of neural networks and average their predictions to get better results. However, this can be very challenging with bigger networks. Training a large is computationally expensive and training multiple models might not be feasible. Ensembling is generally more helpful when the models are not correlated i.e, they should be different from each other. To achieve that the neural networks would need to be of different architectures and trained on different data. This also can be very challenging as we will need to tune every architecture seperately. Also, there may not be enough data available to train different networks on\n",
        "different subsets of the data.\n",
        "\n",
        "Dropout is a technique that provides a way of combining many different neural network architectures efficiently. Dropout means randomly switching off some hidden units in a neural network while training. "
      ]
    },
    {
      "cell_type": "markdown",
      "metadata": {
        "id": "Z1N1oGhKo8P9",
        "colab_type": "text"
      },
      "source": [
        ""
      ]
    },
    {
      "cell_type": "markdown",
      "metadata": {
        "id": "rFVdb_WZZH4l",
        "colab_type": "text"
      },
      "source": [
        ""
      ]
    },
    {
      "cell_type": "markdown",
      "metadata": {
        "id": "Z79fW5UFZH1u",
        "colab_type": "text"
      },
      "source": [
        ""
      ]
    },
    {
      "cell_type": "markdown",
      "metadata": {
        "id": "yI-X-azIZHyc",
        "colab_type": "text"
      },
      "source": [
        ""
      ]
    },
    {
      "cell_type": "markdown",
      "metadata": {
        "id": "ckGJKUApZHvs",
        "colab_type": "text"
      },
      "source": [
        ""
      ]
    },
    {
      "cell_type": "markdown",
      "metadata": {
        "id": "Q_wjpSYpZHtA",
        "colab_type": "text"
      },
      "source": [
        ""
      ]
    },
    {
      "cell_type": "code",
      "metadata": {
        "id": "uhN-G92SY34X",
        "colab_type": "code",
        "outputId": "caf2179d-6519-4a45-a243-5460f39bf8d2",
        "colab": {
          "base_uri": "https://localhost:8080/",
          "height": 235
        }
      },
      "source": [
        "%%time\n",
        "class NeuralNetwork(torch.nn.Module):\n",
        "\n",
        "  def __init__(self):\n",
        "    super(NeuralNetwork, self).__init__()\n",
        "    self.HiddenLayer_1 = torch.nn.Sequential(torch.nn.Linear(100, 100), torch.nn.ReLU())\n",
        "    self.HiddenLayer_2 = torch.nn.Sequential(torch.nn.Linear(100, 100), torch.nn.ReLU())\n",
        "    self.OutputLayer = torch.nn.Linear(100, 1)\n",
        "\n",
        "  def forward(self, Input):\n",
        "    Output = self.HiddenLayer_1(Input)\n",
        "    Output = self.HiddenLayer_2(Output)\n",
        "    Output = self.OutputLayer(Output)\n",
        "    return Output\n",
        "\n",
        "# Instantiate Model    \n",
        "Classifier = NeuralNetwork()\n",
        "\n",
        "# Loss Function - Cross Entropy Loss\n",
        "Loss_Function = torch.nn.MSELoss()\n",
        "\n",
        "learning_rate = 0.01\n",
        "epochs = 1000\n",
        "\n",
        "# Optimizer - Stochastic Gradient Descent\n",
        "Optimizer = torch.optim.SGD(Classifier.parameters(), lr=learning_rate)\n",
        "\n",
        "for epoch in range(epochs):\n",
        "  Classifier.train()\n",
        "  for X, Y in Train_DataLoader:\n",
        "    \n",
        "    # Forward Pass \n",
        "    Predicted = Classifier(X)\n",
        "\n",
        "    # Compute Loss\n",
        "    Loss = Loss_Function(Predicted, Y)\n",
        "\n",
        "    # Backward Pass\n",
        "    Loss.backward()\n",
        "    Optimizer.step()\n",
        "    Optimizer.zero_grad()\n",
        "\n",
        "  # Calculate Validation Loss\n",
        "  if epoch%100 == 0:\n",
        "    Classifier.eval()\n",
        "    with torch.no_grad():\n",
        "      Validation_Loss = sum(Loss_Function(Classifier(X), Y) for X, Y in Validation_DataLoader)\n",
        "      Validation_Loss = Validation_Loss/len(Validation_DataLoader)\n",
        "    print('Epoch: {}. Train Loss: {}. Validation Loss: {}'.format(epoch, Loss, Validation_Loss))\n",
        "\n",
        "# Calulate Validation Loss\n",
        "Classifier.eval()\n",
        "with torch.no_grad():\n",
        "  Validation_Loss = sum(Loss_Function(Classifier(X), Y) for X, Y in Validation_DataLoader)\n",
        "  Validation_Loss = Validation_Loss/len(Validation_DataLoader)\n",
        "\n",
        "print('Epoch: {}. Train Loss: {}. Validation Loss: {}'.format(epoch, Loss, Validation_Loss))"
      ],
      "execution_count": 0,
      "outputs": [
        {
          "output_type": "stream",
          "text": [
            "Epoch: 0. Train Loss: 3.723867177963257. Validation Loss: 3.915928602218628\n",
            "Epoch: 100. Train Loss: 3.054016351699829. Validation Loss: 3.254258155822754\n",
            "Epoch: 200. Train Loss: 1.5870224237442017. Validation Loss: 2.8110504150390625\n",
            "Epoch: 300. Train Loss: 0.5086235404014587. Validation Loss: 2.453244209289551\n",
            "Epoch: 400. Train Loss: 0.22593052685260773. Validation Loss: 2.3984580039978027\n",
            "Epoch: 500. Train Loss: 0.14213888347148895. Validation Loss: 2.406480550765991\n",
            "Epoch: 600. Train Loss: 0.087738536298275. Validation Loss: 2.436570882797241\n",
            "Epoch: 700. Train Loss: 0.08831537514925003. Validation Loss: 2.4292030334472656\n",
            "Epoch: 800. Train Loss: 0.08758869022130966. Validation Loss: 2.454561710357666\n",
            "Epoch: 900. Train Loss: 0.0418587327003479. Validation Loss: 2.4281694889068604\n",
            "Epoch: 999. Train Loss: 0.03452425077557564. Validation Loss: 2.46171236038208\n",
            "CPU times: user 1min 1s, sys: 719 ms, total: 1min 2s\n",
            "Wall time: 1min 2s\n"
          ],
          "name": "stdout"
        }
      ]
    },
    {
      "cell_type": "code",
      "metadata": {
        "id": "94OCp3dGhtNK",
        "colab_type": "code",
        "outputId": "5d508140-2f86-478e-9888-d3c950dc959d",
        "colab": {
          "base_uri": "https://localhost:8080/",
          "height": 235
        }
      },
      "source": [
        "%%time\n",
        "class NeuralNetwork(torch.nn.Module): bn m \n",
        "\n",
        "  def __init__(self, Dropout=0.5):\n",
        "    super(NeuralNetwork, self).__init__()\n",
        "    self.HiddenLayer_1 = torch.nn.Sequential(torch.nn.Linear(100, 100), torch.nn.ReLU())\n",
        "    self.HiddenLayer_2 = torch.nn.Sequential(torch.nn.Linear(100, 100), torch.nn.ReLU())\n",
        "    self.OutputLayer = torch.nn.Linear(100, 1)\n",
        "\n",
        "    self.Dropout = Dropout\n",
        "\n",
        "  def forward(self, Input):\n",
        "    Output = self.HiddenLayer_1(Input)\n",
        "    # Use dropout only when training the model\n",
        "    if self.training:\n",
        "      DropoutLayer = (torch.rand_like(Output, dtype=torch.float) > self.Dropout).float()\n",
        "      Output = (Output*DropoutLayer)/(1-self.Dropout)\n",
        "    Output = self.HiddenLayer_2(Output)\n",
        "    # Use dropout only when training the model\n",
        "    if self.training:\n",
        "      DropoutLayer = (torch.rand_like(Output, dtype=torch.float) > self.Dropout).float()\n",
        "      Output = (Output*DropoutLayer)/(1-self.Dropout)\n",
        "    Output = self.OutputLayer(Output)\n",
        "    return Output\n",
        "\n",
        "# Instantiate Model    \n",
        "Classifier = NeuralNetwork()\n",
        "\n",
        "# Loss Function - Cross Entropy Loss\n",
        "Loss_Function = torch.nn.MSELoss()\n",
        "\n",
        "learning_rate = 0.01\n",
        "epochs = 1000\n",
        "\n",
        "# Optimizer - Stochastic Gradient Descent\n",
        "Optimizer = torch.optim.SGD(Classifier.parameters(), lr=learning_rate)\n",
        "\n",
        "for epoch in range(epochs):\n",
        "  Classifier.train()\n",
        "  for X, Y in Train_DataLoader:\n",
        "    \n",
        "    # Forward Pass \n",
        "    Predicted = Classifier(X)\n",
        "\n",
        "    # Compute Loss\n",
        "    Loss = Loss_Function(Predicted, Y)\n",
        "\n",
        "    # Backward Pass\n",
        "    Loss.backward()\n",
        "    Optimizer.step()\n",
        "    Optimizer.zero_grad()\n",
        "\n",
        "  # Calculate Validation Loss\n",
        "  if epoch%100 == 0:\n",
        "    Classifier.eval()\n",
        "    with torch.no_grad():\n",
        "      Validation_Loss = sum(Loss_Function(Classifier(X), Y) for X, Y in Validation_DataLoader)\n",
        "      Validation_Loss = Validation_Loss/len(Validation_DataLoader)\n",
        "    print('Epoch: {}. Train Loss: {}. Validation Loss: {}'.format(epoch, Loss, Validation_Loss))\n",
        "\n",
        "# Calulate Validation Loss\n",
        "Classifier.eval()\n",
        "with torch.no_grad():\n",
        "  Validation_Loss = sum(Loss_Function(Classifier(X), Y) for X, Y in Validation_DataLoader)\n",
        "  Validation_Loss = Validation_Loss/len(Validation_DataLoader)\n",
        "\n",
        "print('Epoch: {}. Train Loss: {}. Validation Loss: {}'.format(epoch, Loss, Validation_Loss))"
      ],
      "execution_count": 0,
      "outputs": [
        {
          "output_type": "stream",
          "text": [
            "Epoch: 0. Train Loss: 4.232177734375. Validation Loss: 3.9791347980499268\n",
            "Epoch: 100. Train Loss: 3.675645589828491. Validation Loss: 3.498324155807495\n",
            "Epoch: 200. Train Loss: 2.9564197063446045. Validation Loss: 3.1979665756225586\n",
            "Epoch: 300. Train Loss: 2.762871742248535. Validation Loss: 3.0747525691986084\n",
            "Epoch: 400. Train Loss: 2.660318374633789. Validation Loss: 2.845076084136963\n",
            "Epoch: 500. Train Loss: 2.182311534881592. Validation Loss: 2.570600986480713\n",
            "Epoch: 600. Train Loss: 1.990820050239563. Validation Loss: 2.3535451889038086\n",
            "Epoch: 700. Train Loss: 1.704591989517212. Validation Loss: 2.2071280479431152\n",
            "Epoch: 800. Train Loss: 1.5383833646774292. Validation Loss: 2.116896629333496\n",
            "Epoch: 900. Train Loss: 1.4893604516983032. Validation Loss: 2.0616343021392822\n",
            "Epoch: 999. Train Loss: 1.3154215812683105. Validation Loss: 2.0234758853912354\n",
            "CPU times: user 1min 16s, sys: 1.92 s, total: 1min 18s\n",
            "Wall time: 1min 18s\n"
          ],
          "name": "stdout"
        }
      ]
    },
    {
      "cell_type": "code",
      "metadata": {
        "id": "zyPZPQJcY31x",
        "colab_type": "code",
        "outputId": "73d93adb-2d8a-4368-ba59-75543a537d3e",
        "colab": {
          "base_uri": "https://localhost:8080/",
          "height": 235
        }
      },
      "source": [
        "%%time\n",
        "class NeuralNetwork(torch.nn.Module):\n",
        "\n",
        "  def __init__(self):\n",
        "    super(NeuralNetwork, self).__init__()\n",
        "    self.HiddenLayer_1 = torch.nn.Sequential(torch.nn.Linear(50, 100), torch.nn.ReLU(), torch.nn.Dropout())\n",
        "    self.HiddenLayer_2 = torch.nn.Sequential(torch.nn.Linear(100, 100), torch.nn.ReLU(), torch.nn.Dropout())\n",
        "    self.OutputLayer = torch.nn.Linear(100, 1)\n",
        "\n",
        "  def forward(self, Input):\n",
        "    Output = self.HiddenLayer_1(Input)\n",
        "    Output = self.HiddenLayer_2(Output)\n",
        "    Output = self.OutputLayer(Output)\n",
        "    return Output\n",
        "\n",
        "# Instantiate Model    \n",
        "Classifier = NeuralNetwork()\n",
        "\n",
        "# Loss Function - Cross Entropy Loss\n",
        "Loss_Function = torch.nn.MSELoss()\n",
        "\n",
        "learning_rate = 0.01\n",
        "epochs = 1000\n",
        "\n",
        "# Optimizer - Stochastic Gradient Descent\n",
        "Optimizer = torch.optim.SGD(Classifier.parameters(), lr=learning_rate)\n",
        "\n",
        "for epoch in range(epochs):\n",
        "  Classifier.train()\n",
        "  for X, Y in Train_DataLoader:\n",
        "    \n",
        "    # Forward Pass \n",
        "    Predicted = Classifier(X)\n",
        "\n",
        "    # Compute Loss\n",
        "    Loss = Loss_Function(Predicted, Y)\n",
        "\n",
        "    # Backward Pass\n",
        "    Loss.backward()\n",
        "    Optimizer.step()\n",
        "    Optimizer.zero_grad()\n",
        "\n",
        "  # Calculate Validation Loss\n",
        "  if epoch%100 == 0:\n",
        "    Classifier.eval()\n",
        "    with torch.no_grad():\n",
        "      Validation_Loss = sum(Loss_Function(Classifier(X), Y) for X, Y in Validation_DataLoader)\n",
        "      Validation_Loss = Validation_Loss/len(Validation_DataLoader)\n",
        "    print('Epoch: {}. Train Loss: {}. Validation Loss: {}'.format(epoch, Loss, Validation_Loss))\n",
        "\n",
        "# Calulate Validation Loss\n",
        "Classifier.eval()\n",
        "with torch.no_grad():\n",
        "  Validation_Loss = sum(Loss_Function(Classifier(X), Y) for X, Y in Validation_DataLoader)\n",
        "  Validation_Loss = Validation_Loss/len(Validation_DataLoader)\n",
        "\n",
        "print('Epoch: {}. Train Loss: {}. Validation Loss: {}'.format(epoch, Loss, Validation_Loss))"
      ],
      "execution_count": 0,
      "outputs": [
        {
          "output_type": "stream",
          "text": [
            "Epoch: 0. Train Loss: 12.016242027282715. Validation Loss: 12.773066520690918\n",
            "Epoch: 100. Train Loss: 1.5205554962158203. Validation Loss: 0.7738429307937622\n",
            "Epoch: 200. Train Loss: 1.2795571088790894. Validation Loss: 0.6890137791633606\n",
            "Epoch: 300. Train Loss: 1.193935513496399. Validation Loss: 0.6626777648925781\n",
            "Epoch: 400. Train Loss: 1.1249393224716187. Validation Loss: 0.6474982500076294\n",
            "Epoch: 500. Train Loss: 1.0503013134002686. Validation Loss: 0.6376386284828186\n",
            "Epoch: 600. Train Loss: 0.9359003901481628. Validation Loss: 0.6163305640220642\n",
            "Epoch: 700. Train Loss: 0.8597337007522583. Validation Loss: 0.6056487560272217\n",
            "Epoch: 800. Train Loss: 0.8781365156173706. Validation Loss: 0.5980207324028015\n",
            "Epoch: 900. Train Loss: 0.8577926158905029. Validation Loss: 0.5923987030982971\n",
            "Epoch: 999. Train Loss: 0.8847737908363342. Validation Loss: 0.5914652347564697\n",
            "CPU times: user 1min 8s, sys: 1.68 s, total: 1min 9s\n",
            "Wall time: 1min 10s\n"
          ],
          "name": "stdout"
        }
      ]
    },
    {
      "cell_type": "code",
      "metadata": {
        "id": "v1Oz4fZtORX1",
        "colab_type": "code",
        "colab": {}
      },
      "source": [
        ""
      ],
      "execution_count": 0,
      "outputs": []
    },
    {
      "cell_type": "code",
      "metadata": {
        "id": "l_MTdhB-ORTy",
        "colab_type": "code",
        "colab": {}
      },
      "source": [
        ""
      ],
      "execution_count": 0,
      "outputs": []
    },
    {
      "cell_type": "code",
      "metadata": {
        "id": "3_dTG40nORRJ",
        "colab_type": "code",
        "colab": {}
      },
      "source": [
        ""
      ],
      "execution_count": 0,
      "outputs": []
    },
    {
      "cell_type": "code",
      "metadata": {
        "id": "MaKE8CehY3y7",
        "colab_type": "code",
        "colab": {}
      },
      "source": [
        ""
      ],
      "execution_count": 0,
      "outputs": []
    },
    {
      "cell_type": "code",
      "metadata": {
        "id": "mMvRcI_QY3wL",
        "colab_type": "code",
        "colab": {}
      },
      "source": [
        ""
      ],
      "execution_count": 0,
      "outputs": []
    },
    {
      "cell_type": "code",
      "metadata": {
        "id": "tzpdymKH2LtJ",
        "colab_type": "code",
        "outputId": "05e278c5-dd48-4230-b757-291abd903b0b",
        "colab": {
          "base_uri": "https://localhost:8080/",
          "height": 302
        }
      },
      "source": [
        "%%time\n",
        "!wget http://pjreddie.com/media/files/cifar.tgz\n",
        "!tar xzf cifar.tgz"
      ],
      "execution_count": 0,
      "outputs": [
        {
          "output_type": "stream",
          "text": [
            "--2020-04-12 10:00:52--  http://pjreddie.com/media/files/cifar.tgz\n",
            "Resolving pjreddie.com (pjreddie.com)... 128.208.4.108\n",
            "Connecting to pjreddie.com (pjreddie.com)|128.208.4.108|:80... connected.\n",
            "HTTP request sent, awaiting response... 301 Moved Permanently\n",
            "Location: https://pjreddie.com/media/files/cifar.tgz [following]\n",
            "--2020-04-12 10:00:52--  https://pjreddie.com/media/files/cifar.tgz\n",
            "Connecting to pjreddie.com (pjreddie.com)|128.208.4.108|:443... connected.\n",
            "HTTP request sent, awaiting response... 200 OK\n",
            "Length: 168584360 (161M) [application/octet-stream]\n",
            "Saving to: ‘cifar.tgz’\n",
            "\n",
            "cifar.tgz           100%[===================>] 160.77M  5.04MB/s    in 38s     \n",
            "\n",
            "2020-04-12 10:01:30 (4.21 MB/s) - ‘cifar.tgz’ saved [168584360/168584360]\n",
            "\n",
            "CPU times: user 311 ms, sys: 70.5 ms, total: 381 ms\n",
            "Wall time: 45.1 s\n"
          ],
          "name": "stdout"
        }
      ]
    },
    {
      "cell_type": "code",
      "metadata": {
        "id": "-oOBMJGZAt-v",
        "colab_type": "code",
        "outputId": "0307599c-75d1-4adf-bb07-373a9092de95",
        "colab": {
          "base_uri": "https://localhost:8080/",
          "height": 84
        }
      },
      "source": [
        "import os\n",
        "\n",
        "print(os.getcwd())\n",
        "print(os.listdir())\n",
        "print(os.listdir('/content/cifar'))\n",
        "print(os.listdir('/content/cifar/train')[:5])"
      ],
      "execution_count": 0,
      "outputs": [
        {
          "output_type": "stream",
          "text": [
            "/content\n",
            "['.config', 'cifar', 'cifar.tgz', 'sample_data']\n",
            "['labels.txt', 'train', 'test']\n",
            "['23847_airplane.png', '21024_frog.png', '49971_truck.png', '44314_frog.png', '29980_airplane.png']\n"
          ],
          "name": "stdout"
        }
      ]
    },
    {
      "cell_type": "code",
      "metadata": {
        "id": "YwPp_cYn-NGR",
        "colab_type": "code",
        "outputId": "4a955f66-bf93-49ba-b0c7-9a1497d5e444",
        "colab": {
          "base_uri": "https://localhost:8080/",
          "height": 295
        }
      },
      "source": [
        "from PIL import Image\n",
        "\n",
        "ImageList = [os.path.join('/content/cifar/train', x) for x in os.listdir('/content/cifar/train')]\n",
        "\n",
        "fig=plt.figure(figsize=(10, 5))\n",
        "columns = 5\n",
        "rows = 2\n",
        "for i in range(1, columns*rows +1):\n",
        "    img = ImageList[np.random.randint(len(ImageList))]\n",
        "    img = Image.open(img)\n",
        "    fig.add_subplot(rows, columns, i)\n",
        "    plt.imshow(img)\n",
        "plt.show()"
      ],
      "execution_count": 0,
      "outputs": [
        {
          "output_type": "display_data",
          "data": {
            "image/png": "[encoded data removed]",
            "text/plain": [
              "<Figure size 720x360 with 10 Axes>"
            ]
          },
          "metadata": {
            "tags": [],
            "needs_background": "light"
          }
        }
      ]
    },
    {
      "cell_type": "code",
      "metadata": {
        "id": "9GNQiUKEXVTC",
        "colab_type": "code",
        "colab": {}
      },
      "source": [
        "with open(\"/content/cifar/labels.txt\") as label_file:\n",
        "    labels = label_file.read().split()\n",
        "    label_mapping = dict(zip(labels, list(range(len(labels)))))"
      ],
      "execution_count": 0,
      "outputs": []
    },
    {
      "cell_type": "code",
      "metadata": {
        "id": "SZGjoYvfBVss",
        "colab_type": "code",
        "colab": {}
      },
      "source": [
        "class CIFAR_Dataset:\n",
        "\n",
        "  def __init__(self, path):\n",
        "    self.ImageList = [os.path.join(path, x) for x in os.listdir(path)]\n",
        "\n",
        "  def __len__(self):\n",
        "    return len(self.ImageList)\n",
        "\n",
        "  def __getitem__(self, idx):\n",
        "    location = self.ImageList[idx]\n",
        "    image = Image.open(location)\n",
        "    image = torch.tensor(np.array(image), dtype=torch.float)\n",
        "    image = image.flatten()/255\n",
        "    image = (image-0.5)/0.5\n",
        "    label = location[:-4].split(\"_\")[-1]\n",
        "    label = label_mapping[label]\n",
        "    return image, label"
      ],
      "execution_count": 0,
      "outputs": []
    },
    {
      "cell_type": "code",
      "metadata": {
        "id": "ukwBGzlvL0En",
        "colab_type": "code",
        "colab": {}
      },
      "source": [
        "Train_Dataset = CIFAR_Dataset('/content/cifar/train')\n",
        "Validation_Dataset = CIFAR_Dataset('/content/cifar/test')"
      ],
      "execution_count": 0,
      "outputs": []
    },
    {
      "cell_type": "code",
      "metadata": {
        "id": "AM-svi45KeuY",
        "colab_type": "code",
        "colab": {}
      },
      "source": [
        "from torch.utils.data import DataLoader\n",
        "\n",
        "batch_size = 64\n",
        "Train_DataLoader = DataLoader(Train_Dataset, batch_size=batch_size)\n",
        "Validation_DataLoader = DataLoader(Validation_Dataset, batch_size=batch_size*2)"
      ],
      "execution_count": 0,
      "outputs": []
    },
    {
      "cell_type": "code",
      "metadata": {
        "id": "edeMyFqRUiZ6",
        "colab_type": "code",
        "outputId": "507a7ffb-c845-49bf-e75b-a085eccf8b7b",
        "colab": {
          "base_uri": "https://localhost:8080/",
          "height": 34
        }
      },
      "source": [
        "print(torch.cuda.is_available())\n",
        "device = torch.device(\"cuda\")"
      ],
      "execution_count": 0,
      "outputs": [
        {
          "output_type": "stream",
          "text": [
            "False\n"
          ],
          "name": "stdout"
        }
      ]
    },
    {
      "cell_type": "code",
      "metadata": {
        "id": "mAonECzLLAXB",
        "colab_type": "code",
        "outputId": "781f55d7-99ef-4100-f1af-0efe97bd6755",
        "colab": {
          "base_uri": "https://localhost:8080/",
          "height": 390
        }
      },
      "source": [
        "%%time\n",
        "class NeuralNetwork(torch.nn.Module):\n",
        "  def __init__(self):\n",
        "    super(NeuralNetwork, self).__init__()\n",
        "    self.HiddenLayer1 = torch.nn.Sequential(torch.nn.Linear(3072, 100), torch.nn.ReLU())\n",
        "    self.HiddenLayer2 = torch.nn.Sequential(torch.nn.Linear(100, 100), torch.nn.ReLU())\n",
        "    self.OutputLayer = torch.nn.Sequential(torch.nn.Linear(100, 10))\n",
        "\n",
        "  def forward(self, Input):\n",
        "    Output = self.HiddenLayer1(Input)\n",
        "    Output = self.HiddenLayer2(Output)\n",
        "    Output = self.OutputLayer(Output)\n",
        "    return Output\n",
        "\n",
        "Model = NeuralNetwork()\n",
        "Model.to(device)\n",
        "\n",
        "Loss_Function = torch.nn.CrossEntropyLoss()\n",
        "\n",
        "learning_rate = 0.01\n",
        "epochs = 100\n",
        "\n",
        "Optimizer = torch.optim.SGD(Model.parameters(), lr=learning_rate)\n",
        "\n",
        "for epoch in range(epochs):\n",
        "  Model.train()\n",
        "  for X, Y in Train_DataLoader:\n",
        "    X = X.to(device)\n",
        "    Y = Y.to(device)\n",
        "\n",
        "    # Forward Pass \n",
        "    Predicted = Model(X)\n",
        "\n",
        "    # Compute Loss\n",
        "    Loss = Loss_Function(Predicted, Y)\n",
        "\n",
        "    # Backward Pass\n",
        "    Loss.backward()\n",
        "    Optimizer.step()\n",
        "    Optimizer.zero_grad()\n",
        "\n",
        "  # Calculate Validation Loss\n",
        "  if epoch%10 == 0:\n",
        "    Model.eval()\n",
        "    with torch.no_grad():\n",
        "      Validation_Loss = sum(Loss_Function(Model(X.to(device)), Y.to(device)) for X, Y in Validation_DataLoader)\n",
        "      Validation_Loss = Validation_Loss/len(Validation_DataLoader)\n",
        "    print('Epoch: {}. Train Loss: {}. Validation Loss: {}'.format(epoch, Loss, Validation_Loss))\n",
        "\n",
        "# Calulate Validation Loss\n",
        "Model.eval()\n",
        "with torch.no_grad():\n",
        "  Validation_Loss = sum(Loss_Function(Model(X.to(device)), Y.to(device)) for X, Y in Validation_DataLoader)\n",
        "  Validation_Loss = Validation_Loss/len(Validation_DataLoader)\n",
        "\n",
        "print('Epoch: {}. Train Loss: {}. Validation Loss: {}'.format(epoch, Loss, Validation_Loss))"
      ],
      "execution_count": 0,
      "outputs": [
        {
          "output_type": "error",
          "ename": "RuntimeError",
          "evalue": "ignored",
          "traceback": [
            "\u001b[0;31m---------------------------------------------------------------------------\u001b[0m",
            "\u001b[0;31mRuntimeError\u001b[0m                              Traceback (most recent call last)",
            "\u001b[0;32m<ipython-input-20-f26164530f33>\u001b[0m in \u001b[0;36m<module>\u001b[0;34m()\u001b[0m\n\u001b[0;32m----> 1\u001b[0;31m \u001b[0mget_ipython\u001b[0m\u001b[0;34m(\u001b[0m\u001b[0;34m)\u001b[0m\u001b[0;34m.\u001b[0m\u001b[0mrun_cell_magic\u001b[0m\u001b[0;34m(\u001b[0m\u001b[0;34m'time'\u001b[0m\u001b[0;34m,\u001b[0m \u001b[0;34m''\u001b[0m\u001b[0;34m,\u001b[0m \u001b[0;34m\"class NeuralNetwork(torch.nn.Module):\\n  def __init__(self):\\n    super(NeuralNetwork, self).__init__()\\n    self.HiddenLayer1 = torch.nn.Sequential(torch.nn.Linear(3072, 100), torch.nn.ReLU())\\n    self.HiddenLayer2 = torch.nn.Sequential(torch.nn.Linear(100, 100), torch.nn.ReLU())\\n    self.OutputLayer = torch.nn.Sequential(torch.nn.Linear(100, 10))\\n\\n  def forward(self, Input):\\n    Output = self.HiddenLayer1(Input)\\n    Output = self.HiddenLayer2(Output)\\n    Output = self.OutputLayer(Output)\\n    return Output\\n\\nModel = NeuralNetwork()\\nModel.to(device)\\n\\nLoss_Function = torch.nn.CrossEntropyLoss()\\n\\nlearning_rate = 0.01\\nepochs = 100\\n\\nOptimizer = torch.optim.SGD(Model.parameters(), lr=learning_rate)\\n\\nfor epoch in range(epochs):\\n  Model.train()\\n  for X, Y in Train_DataLoader:\\n    X = X.to(device)\\n    Y = Y.to(device)\\n\\n    # Forward Pass \\n    Predicted = Model(X)\\n\\n    # Compute Loss\\n    Loss = Loss_Function(Predicted, Y)\\n\\n    # Backward Pass\\n    Loss.backward()\\n    Optimizer.step()\\n    Optimizer.zero_grad()\\n\\n  # Calculate Validation Loss\\n  if epoch%10 == 0:\\n    Model.eval()\\n    with torch.no_grad():\\n      Validation_Loss = sum(Loss_Function(Model(X.to(device)), Y.to(device)) for X, Y in Validation_DataLoader)\\n      Validation_Loss = Validation_Loss/len(Validation_DataL...\n\u001b[0m",
            "\u001b[0;32m/usr/local/lib/python3.6/dist-packages/IPython/core/interactiveshell.py\u001b[0m in \u001b[0;36mrun_cell_magic\u001b[0;34m(self, magic_name, line, cell)\u001b[0m\n\u001b[1;32m   2115\u001b[0m             \u001b[0mmagic_arg_s\u001b[0m \u001b[0;34m=\u001b[0m \u001b[0mself\u001b[0m\u001b[0;34m.\u001b[0m\u001b[0mvar_expand\u001b[0m\u001b[0;34m(\u001b[0m\u001b[0mline\u001b[0m\u001b[0;34m,\u001b[0m \u001b[0mstack_depth\u001b[0m\u001b[0;34m)\u001b[0m\u001b[0;34m\u001b[0m\u001b[0;34m\u001b[0m\u001b[0m\n\u001b[1;32m   2116\u001b[0m             \u001b[0;32mwith\u001b[0m \u001b[0mself\u001b[0m\u001b[0;34m.\u001b[0m\u001b[0mbuiltin_trap\u001b[0m\u001b[0;34m:\u001b[0m\u001b[0;34m\u001b[0m\u001b[0;34m\u001b[0m\u001b[0m\n\u001b[0;32m-> 2117\u001b[0;31m                 \u001b[0mresult\u001b[0m \u001b[0;34m=\u001b[0m \u001b[0mfn\u001b[0m\u001b[0;34m(\u001b[0m\u001b[0mmagic_arg_s\u001b[0m\u001b[0;34m,\u001b[0m \u001b[0mcell\u001b[0m\u001b[0;34m)\u001b[0m\u001b[0;34m\u001b[0m\u001b[0;34m\u001b[0m\u001b[0m\n\u001b[0m\u001b[1;32m   2118\u001b[0m             \u001b[0;32mreturn\u001b[0m \u001b[0mresult\u001b[0m\u001b[0;34m\u001b[0m\u001b[0;34m\u001b[0m\u001b[0m\n\u001b[1;32m   2119\u001b[0m \u001b[0;34m\u001b[0m\u001b[0m\n",
            "\u001b[0;32m<decorator-gen-60>\u001b[0m in \u001b[0;36mtime\u001b[0;34m(self, line, cell, local_ns)\u001b[0m\n",
            "\u001b[0;32m/usr/local/lib/python3.6/dist-packages/IPython/core/magic.py\u001b[0m in \u001b[0;36m<lambda>\u001b[0;34m(f, *a, **k)\u001b[0m\n\u001b[1;32m    186\u001b[0m     \u001b[0;31m# but it's overkill for just that one bit of state.\u001b[0m\u001b[0;34m\u001b[0m\u001b[0;34m\u001b[0m\u001b[0;34m\u001b[0m\u001b[0m\n\u001b[1;32m    187\u001b[0m     \u001b[0;32mdef\u001b[0m \u001b[0mmagic_deco\u001b[0m\u001b[0;34m(\u001b[0m\u001b[0marg\u001b[0m\u001b[0;34m)\u001b[0m\u001b[0;34m:\u001b[0m\u001b[0;34m\u001b[0m\u001b[0;34m\u001b[0m\u001b[0m\n\u001b[0;32m--> 188\u001b[0;31m         \u001b[0mcall\u001b[0m \u001b[0;34m=\u001b[0m \u001b[0;32mlambda\u001b[0m \u001b[0mf\u001b[0m\u001b[0;34m,\u001b[0m \u001b[0;34m*\u001b[0m\u001b[0ma\u001b[0m\u001b[0;34m,\u001b[0m \u001b[0;34m**\u001b[0m\u001b[0mk\u001b[0m\u001b[0;34m:\u001b[0m \u001b[0mf\u001b[0m\u001b[0;34m(\u001b[0m\u001b[0;34m*\u001b[0m\u001b[0ma\u001b[0m\u001b[0;34m,\u001b[0m \u001b[0;34m**\u001b[0m\u001b[0mk\u001b[0m\u001b[0;34m)\u001b[0m\u001b[0;34m\u001b[0m\u001b[0;34m\u001b[0m\u001b[0m\n\u001b[0m\u001b[1;32m    189\u001b[0m \u001b[0;34m\u001b[0m\u001b[0m\n\u001b[1;32m    190\u001b[0m         \u001b[0;32mif\u001b[0m \u001b[0mcallable\u001b[0m\u001b[0;34m(\u001b[0m\u001b[0marg\u001b[0m\u001b[0;34m)\u001b[0m\u001b[0;34m:\u001b[0m\u001b[0;34m\u001b[0m\u001b[0;34m\u001b[0m\u001b[0m\n",
            "\u001b[0;32m/usr/local/lib/python3.6/dist-packages/IPython/core/magics/execution.py\u001b[0m in \u001b[0;36mtime\u001b[0;34m(self, line, cell, local_ns)\u001b[0m\n\u001b[1;32m   1191\u001b[0m         \u001b[0;32melse\u001b[0m\u001b[0;34m:\u001b[0m\u001b[0;34m\u001b[0m\u001b[0;34m\u001b[0m\u001b[0m\n\u001b[1;32m   1192\u001b[0m             \u001b[0mst\u001b[0m \u001b[0;34m=\u001b[0m \u001b[0mclock2\u001b[0m\u001b[0;34m(\u001b[0m\u001b[0;34m)\u001b[0m\u001b[0;34m\u001b[0m\u001b[0;34m\u001b[0m\u001b[0m\n\u001b[0;32m-> 1193\u001b[0;31m             \u001b[0mexec\u001b[0m\u001b[0;34m(\u001b[0m\u001b[0mcode\u001b[0m\u001b[0;34m,\u001b[0m \u001b[0mglob\u001b[0m\u001b[0;34m,\u001b[0m \u001b[0mlocal_ns\u001b[0m\u001b[0;34m)\u001b[0m\u001b[0;34m\u001b[0m\u001b[0;34m\u001b[0m\u001b[0m\n\u001b[0m\u001b[1;32m   1194\u001b[0m             \u001b[0mend\u001b[0m \u001b[0;34m=\u001b[0m \u001b[0mclock2\u001b[0m\u001b[0;34m(\u001b[0m\u001b[0;34m)\u001b[0m\u001b[0;34m\u001b[0m\u001b[0;34m\u001b[0m\u001b[0m\n\u001b[1;32m   1195\u001b[0m             \u001b[0mout\u001b[0m \u001b[0;34m=\u001b[0m \u001b[0;32mNone\u001b[0m\u001b[0;34m\u001b[0m\u001b[0;34m\u001b[0m\u001b[0m\n",
            "\u001b[0;32m<timed exec>\u001b[0m in \u001b[0;36m<module>\u001b[0;34m()\u001b[0m\n",
            "\u001b[0;32m/usr/local/lib/python3.6/dist-packages/torch/nn/modules/module.py\u001b[0m in \u001b[0;36mto\u001b[0;34m(self, *args, **kwargs)\u001b[0m\n\u001b[1;32m    423\u001b[0m             \u001b[0;32mreturn\u001b[0m \u001b[0mt\u001b[0m\u001b[0;34m.\u001b[0m\u001b[0mto\u001b[0m\u001b[0;34m(\u001b[0m\u001b[0mdevice\u001b[0m\u001b[0;34m,\u001b[0m \u001b[0mdtype\u001b[0m \u001b[0;32mif\u001b[0m \u001b[0mt\u001b[0m\u001b[0;34m.\u001b[0m\u001b[0mis_floating_point\u001b[0m\u001b[0;34m(\u001b[0m\u001b[0;34m)\u001b[0m \u001b[0;32melse\u001b[0m \u001b[0;32mNone\u001b[0m\u001b[0;34m,\u001b[0m \u001b[0mnon_blocking\u001b[0m\u001b[0;34m)\u001b[0m\u001b[0;34m\u001b[0m\u001b[0;34m\u001b[0m\u001b[0m\n\u001b[1;32m    424\u001b[0m \u001b[0;34m\u001b[0m\u001b[0m\n\u001b[0;32m--> 425\u001b[0;31m         \u001b[0;32mreturn\u001b[0m \u001b[0mself\u001b[0m\u001b[0;34m.\u001b[0m\u001b[0m_apply\u001b[0m\u001b[0;34m(\u001b[0m\u001b[0mconvert\u001b[0m\u001b[0;34m)\u001b[0m\u001b[0;34m\u001b[0m\u001b[0;34m\u001b[0m\u001b[0m\n\u001b[0m\u001b[1;32m    426\u001b[0m \u001b[0;34m\u001b[0m\u001b[0m\n\u001b[1;32m    427\u001b[0m     \u001b[0;32mdef\u001b[0m \u001b[0mregister_backward_hook\u001b[0m\u001b[0;34m(\u001b[0m\u001b[0mself\u001b[0m\u001b[0;34m,\u001b[0m \u001b[0mhook\u001b[0m\u001b[0;34m)\u001b[0m\u001b[0;34m:\u001b[0m\u001b[0;34m\u001b[0m\u001b[0;34m\u001b[0m\u001b[0m\n",
            "\u001b[0;32m/usr/local/lib/python3.6/dist-packages/torch/nn/modules/module.py\u001b[0m in \u001b[0;36m_apply\u001b[0;34m(self, fn)\u001b[0m\n\u001b[1;32m    199\u001b[0m     \u001b[0;32mdef\u001b[0m \u001b[0m_apply\u001b[0m\u001b[0;34m(\u001b[0m\u001b[0mself\u001b[0m\u001b[0;34m,\u001b[0m \u001b[0mfn\u001b[0m\u001b[0;34m)\u001b[0m\u001b[0;34m:\u001b[0m\u001b[0;34m\u001b[0m\u001b[0;34m\u001b[0m\u001b[0m\n\u001b[1;32m    200\u001b[0m         \u001b[0;32mfor\u001b[0m \u001b[0mmodule\u001b[0m \u001b[0;32min\u001b[0m \u001b[0mself\u001b[0m\u001b[0;34m.\u001b[0m\u001b[0mchildren\u001b[0m\u001b[0;34m(\u001b[0m\u001b[0;34m)\u001b[0m\u001b[0;34m:\u001b[0m\u001b[0;34m\u001b[0m\u001b[0;34m\u001b[0m\u001b[0m\n\u001b[0;32m--> 201\u001b[0;31m             \u001b[0mmodule\u001b[0m\u001b[0;34m.\u001b[0m\u001b[0m_apply\u001b[0m\u001b[0;34m(\u001b[0m\u001b[0mfn\u001b[0m\u001b[0;34m)\u001b[0m\u001b[0;34m\u001b[0m\u001b[0;34m\u001b[0m\u001b[0m\n\u001b[0m\u001b[1;32m    202\u001b[0m \u001b[0;34m\u001b[0m\u001b[0m\n\u001b[1;32m    203\u001b[0m         \u001b[0;32mdef\u001b[0m \u001b[0mcompute_should_use_set_data\u001b[0m\u001b[0;34m(\u001b[0m\u001b[0mtensor\u001b[0m\u001b[0;34m,\u001b[0m \u001b[0mtensor_applied\u001b[0m\u001b[0;34m)\u001b[0m\u001b[0;34m:\u001b[0m\u001b[0;34m\u001b[0m\u001b[0;34m\u001b[0m\u001b[0m\n",
            "\u001b[0;32m/usr/local/lib/python3.6/dist-packages/torch/nn/modules/module.py\u001b[0m in \u001b[0;36m_apply\u001b[0;34m(self, fn)\u001b[0m\n\u001b[1;32m    199\u001b[0m     \u001b[0;32mdef\u001b[0m \u001b[0m_apply\u001b[0m\u001b[0;34m(\u001b[0m\u001b[0mself\u001b[0m\u001b[0;34m,\u001b[0m \u001b[0mfn\u001b[0m\u001b[0;34m)\u001b[0m\u001b[0;34m:\u001b[0m\u001b[0;34m\u001b[0m\u001b[0;34m\u001b[0m\u001b[0m\n\u001b[1;32m    200\u001b[0m         \u001b[0;32mfor\u001b[0m \u001b[0mmodule\u001b[0m \u001b[0;32min\u001b[0m \u001b[0mself\u001b[0m\u001b[0;34m.\u001b[0m\u001b[0mchildren\u001b[0m\u001b[0;34m(\u001b[0m\u001b[0;34m)\u001b[0m\u001b[0;34m:\u001b[0m\u001b[0;34m\u001b[0m\u001b[0;34m\u001b[0m\u001b[0m\n\u001b[0;32m--> 201\u001b[0;31m             \u001b[0mmodule\u001b[0m\u001b[0;34m.\u001b[0m\u001b[0m_apply\u001b[0m\u001b[0;34m(\u001b[0m\u001b[0mfn\u001b[0m\u001b[0;34m)\u001b[0m\u001b[0;34m\u001b[0m\u001b[0;34m\u001b[0m\u001b[0m\n\u001b[0m\u001b[1;32m    202\u001b[0m \u001b[0;34m\u001b[0m\u001b[0m\n\u001b[1;32m    203\u001b[0m         \u001b[0;32mdef\u001b[0m \u001b[0mcompute_should_use_set_data\u001b[0m\u001b[0;34m(\u001b[0m\u001b[0mtensor\u001b[0m\u001b[0;34m,\u001b[0m \u001b[0mtensor_applied\u001b[0m\u001b[0;34m)\u001b[0m\u001b[0;34m:\u001b[0m\u001b[0;34m\u001b[0m\u001b[0;34m\u001b[0m\u001b[0m\n",
            "\u001b[0;32m/usr/local/lib/python3.6/dist-packages/torch/nn/modules/module.py\u001b[0m in \u001b[0;36m_apply\u001b[0;34m(self, fn)\u001b[0m\n\u001b[1;32m    221\u001b[0m                 \u001b[0;31m# `with torch.no_grad():`\u001b[0m\u001b[0;34m\u001b[0m\u001b[0;34m\u001b[0m\u001b[0;34m\u001b[0m\u001b[0m\n\u001b[1;32m    222\u001b[0m                 \u001b[0;32mwith\u001b[0m \u001b[0mtorch\u001b[0m\u001b[0;34m.\u001b[0m\u001b[0mno_grad\u001b[0m\u001b[0;34m(\u001b[0m\u001b[0;34m)\u001b[0m\u001b[0;34m:\u001b[0m\u001b[0;34m\u001b[0m\u001b[0;34m\u001b[0m\u001b[0m\n\u001b[0;32m--> 223\u001b[0;31m                     \u001b[0mparam_applied\u001b[0m \u001b[0;34m=\u001b[0m \u001b[0mfn\u001b[0m\u001b[0;34m(\u001b[0m\u001b[0mparam\u001b[0m\u001b[0;34m)\u001b[0m\u001b[0;34m\u001b[0m\u001b[0;34m\u001b[0m\u001b[0m\n\u001b[0m\u001b[1;32m    224\u001b[0m                 \u001b[0mshould_use_set_data\u001b[0m \u001b[0;34m=\u001b[0m \u001b[0mcompute_should_use_set_data\u001b[0m\u001b[0;34m(\u001b[0m\u001b[0mparam\u001b[0m\u001b[0;34m,\u001b[0m \u001b[0mparam_applied\u001b[0m\u001b[0;34m)\u001b[0m\u001b[0;34m\u001b[0m\u001b[0;34m\u001b[0m\u001b[0m\n\u001b[1;32m    225\u001b[0m                 \u001b[0;32mif\u001b[0m \u001b[0mshould_use_set_data\u001b[0m\u001b[0;34m:\u001b[0m\u001b[0;34m\u001b[0m\u001b[0;34m\u001b[0m\u001b[0m\n",
            "\u001b[0;32m/usr/local/lib/python3.6/dist-packages/torch/nn/modules/module.py\u001b[0m in \u001b[0;36mconvert\u001b[0;34m(t)\u001b[0m\n\u001b[1;32m    421\u001b[0m \u001b[0;34m\u001b[0m\u001b[0m\n\u001b[1;32m    422\u001b[0m         \u001b[0;32mdef\u001b[0m \u001b[0mconvert\u001b[0m\u001b[0;34m(\u001b[0m\u001b[0mt\u001b[0m\u001b[0;34m)\u001b[0m\u001b[0;34m:\u001b[0m\u001b[0;34m\u001b[0m\u001b[0;34m\u001b[0m\u001b[0m\n\u001b[0;32m--> 423\u001b[0;31m             \u001b[0;32mreturn\u001b[0m \u001b[0mt\u001b[0m\u001b[0;34m.\u001b[0m\u001b[0mto\u001b[0m\u001b[0;34m(\u001b[0m\u001b[0mdevice\u001b[0m\u001b[0;34m,\u001b[0m \u001b[0mdtype\u001b[0m \u001b[0;32mif\u001b[0m \u001b[0mt\u001b[0m\u001b[0;34m.\u001b[0m\u001b[0mis_floating_point\u001b[0m\u001b[0;34m(\u001b[0m\u001b[0;34m)\u001b[0m \u001b[0;32melse\u001b[0m \u001b[0;32mNone\u001b[0m\u001b[0;34m,\u001b[0m \u001b[0mnon_blocking\u001b[0m\u001b[0;34m)\u001b[0m\u001b[0;34m\u001b[0m\u001b[0;34m\u001b[0m\u001b[0m\n\u001b[0m\u001b[1;32m    424\u001b[0m \u001b[0;34m\u001b[0m\u001b[0m\n\u001b[1;32m    425\u001b[0m         \u001b[0;32mreturn\u001b[0m \u001b[0mself\u001b[0m\u001b[0;34m.\u001b[0m\u001b[0m_apply\u001b[0m\u001b[0;34m(\u001b[0m\u001b[0mconvert\u001b[0m\u001b[0;34m)\u001b[0m\u001b[0;34m\u001b[0m\u001b[0;34m\u001b[0m\u001b[0m\n",
            "\u001b[0;32m/usr/local/lib/python3.6/dist-packages/torch/cuda/__init__.py\u001b[0m in \u001b[0;36m_lazy_init\u001b[0;34m()\u001b[0m\n\u001b[1;32m    195\u001b[0m                 \"Cannot re-initialize CUDA in forked subprocess. \" + msg)\n\u001b[1;32m    196\u001b[0m         \u001b[0m_check_driver\u001b[0m\u001b[0;34m(\u001b[0m\u001b[0;34m)\u001b[0m\u001b[0;34m\u001b[0m\u001b[0;34m\u001b[0m\u001b[0m\n\u001b[0;32m--> 197\u001b[0;31m         \u001b[0mtorch\u001b[0m\u001b[0;34m.\u001b[0m\u001b[0m_C\u001b[0m\u001b[0;34m.\u001b[0m\u001b[0m_cuda_init\u001b[0m\u001b[0;34m(\u001b[0m\u001b[0;34m)\u001b[0m\u001b[0;34m\u001b[0m\u001b[0;34m\u001b[0m\u001b[0m\n\u001b[0m\u001b[1;32m    198\u001b[0m         \u001b[0m_cudart\u001b[0m \u001b[0;34m=\u001b[0m \u001b[0m_load_cudart\u001b[0m\u001b[0;34m(\u001b[0m\u001b[0;34m)\u001b[0m\u001b[0;34m\u001b[0m\u001b[0;34m\u001b[0m\u001b[0m\n\u001b[1;32m    199\u001b[0m         \u001b[0m_cudart\u001b[0m\u001b[0;34m.\u001b[0m\u001b[0mcudaGetErrorName\u001b[0m\u001b[0;34m.\u001b[0m\u001b[0mrestype\u001b[0m \u001b[0;34m=\u001b[0m \u001b[0mctypes\u001b[0m\u001b[0;34m.\u001b[0m\u001b[0mc_char_p\u001b[0m\u001b[0;34m\u001b[0m\u001b[0;34m\u001b[0m\u001b[0m\n",
            "\u001b[0;31mRuntimeError\u001b[0m: cuda runtime error (100) : no CUDA-capable device is detected at /pytorch/aten/src/THC/THCGeneral.cpp:50"
          ]
        }
      ]
    },
    {
      "cell_type": "code",
      "metadata": {
        "id": "3LygfhKOpBk2",
        "colab_type": "code",
        "colab": {}
      },
      "source": [
        "!nvidia-smi"
      ],
      "execution_count": 0,
      "outputs": []
    }
  ]
}